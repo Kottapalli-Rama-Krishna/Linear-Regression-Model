{
 "cells": [
  {
   "cell_type": "markdown",
   "id": "59e9e5ed",
   "metadata": {},
   "source": [
    "# Linear Regression"
   ]
  },
  {
   "cell_type": "code",
   "execution_count": 1,
   "id": "4ce89095",
   "metadata": {},
   "outputs": [],
   "source": [
    "import pandas as pd\n",
    "import numpy as np"
   ]
  },
  {
   "cell_type": "code",
   "execution_count": 2,
   "id": "787e9a90",
   "metadata": {},
   "outputs": [],
   "source": [
    "insurance=pd.read_csv(\"new_insurance_data.csv\")"
   ]
  },
  {
   "cell_type": "code",
   "execution_count": 3,
   "id": "aee8686d",
   "metadata": {},
   "outputs": [
    {
     "data": {
      "text/html": [
       "<div>\n",
       "<style scoped>\n",
       "    .dataframe tbody tr th:only-of-type {\n",
       "        vertical-align: middle;\n",
       "    }\n",
       "\n",
       "    .dataframe tbody tr th {\n",
       "        vertical-align: top;\n",
       "    }\n",
       "\n",
       "    .dataframe thead th {\n",
       "        text-align: right;\n",
       "    }\n",
       "</style>\n",
       "<table border=\"1\" class=\"dataframe\">\n",
       "  <thead>\n",
       "    <tr style=\"text-align: right;\">\n",
       "      <th></th>\n",
       "      <th>age</th>\n",
       "      <th>sex</th>\n",
       "      <th>bmi</th>\n",
       "      <th>children</th>\n",
       "      <th>smoker</th>\n",
       "      <th>Claim_Amount</th>\n",
       "      <th>past_consultations</th>\n",
       "      <th>num_of_steps</th>\n",
       "      <th>Hospital_expenditure</th>\n",
       "      <th>NUmber_of_past_hospitalizations</th>\n",
       "      <th>Anual_Salary</th>\n",
       "      <th>region</th>\n",
       "      <th>charges</th>\n",
       "    </tr>\n",
       "  </thead>\n",
       "  <tbody>\n",
       "    <tr>\n",
       "      <th>0</th>\n",
       "      <td>18.0</td>\n",
       "      <td>male</td>\n",
       "      <td>23.210</td>\n",
       "      <td>0.0</td>\n",
       "      <td>no</td>\n",
       "      <td>29087.54313</td>\n",
       "      <td>17.0</td>\n",
       "      <td>715428.0</td>\n",
       "      <td>4.720921e+06</td>\n",
       "      <td>0.0</td>\n",
       "      <td>5.578497e+07</td>\n",
       "      <td>southeast</td>\n",
       "      <td>1121.87390</td>\n",
       "    </tr>\n",
       "    <tr>\n",
       "      <th>1</th>\n",
       "      <td>18.0</td>\n",
       "      <td>male</td>\n",
       "      <td>30.140</td>\n",
       "      <td>0.0</td>\n",
       "      <td>no</td>\n",
       "      <td>39053.67437</td>\n",
       "      <td>7.0</td>\n",
       "      <td>699157.0</td>\n",
       "      <td>4.329832e+06</td>\n",
       "      <td>0.0</td>\n",
       "      <td>1.370089e+07</td>\n",
       "      <td>southeast</td>\n",
       "      <td>1131.50660</td>\n",
       "    </tr>\n",
       "    <tr>\n",
       "      <th>2</th>\n",
       "      <td>18.0</td>\n",
       "      <td>male</td>\n",
       "      <td>33.330</td>\n",
       "      <td>0.0</td>\n",
       "      <td>no</td>\n",
       "      <td>39023.62759</td>\n",
       "      <td>19.0</td>\n",
       "      <td>702341.0</td>\n",
       "      <td>6.884861e+06</td>\n",
       "      <td>0.0</td>\n",
       "      <td>7.352311e+07</td>\n",
       "      <td>southeast</td>\n",
       "      <td>1135.94070</td>\n",
       "    </tr>\n",
       "    <tr>\n",
       "      <th>3</th>\n",
       "      <td>18.0</td>\n",
       "      <td>male</td>\n",
       "      <td>33.660</td>\n",
       "      <td>0.0</td>\n",
       "      <td>no</td>\n",
       "      <td>28185.39332</td>\n",
       "      <td>11.0</td>\n",
       "      <td>700250.0</td>\n",
       "      <td>4.274774e+06</td>\n",
       "      <td>0.0</td>\n",
       "      <td>7.581968e+07</td>\n",
       "      <td>southeast</td>\n",
       "      <td>1136.39940</td>\n",
       "    </tr>\n",
       "    <tr>\n",
       "      <th>4</th>\n",
       "      <td>18.0</td>\n",
       "      <td>male</td>\n",
       "      <td>34.100</td>\n",
       "      <td>0.0</td>\n",
       "      <td>no</td>\n",
       "      <td>14697.85941</td>\n",
       "      <td>16.0</td>\n",
       "      <td>711584.0</td>\n",
       "      <td>3.787294e+06</td>\n",
       "      <td>0.0</td>\n",
       "      <td>2.301232e+07</td>\n",
       "      <td>southeast</td>\n",
       "      <td>1137.01100</td>\n",
       "    </tr>\n",
       "    <tr>\n",
       "      <th>...</th>\n",
       "      <td>...</td>\n",
       "      <td>...</td>\n",
       "      <td>...</td>\n",
       "      <td>...</td>\n",
       "      <td>...</td>\n",
       "      <td>...</td>\n",
       "      <td>...</td>\n",
       "      <td>...</td>\n",
       "      <td>...</td>\n",
       "      <td>...</td>\n",
       "      <td>...</td>\n",
       "      <td>...</td>\n",
       "      <td>...</td>\n",
       "    </tr>\n",
       "    <tr>\n",
       "      <th>1333</th>\n",
       "      <td>33.0</td>\n",
       "      <td>female</td>\n",
       "      <td>35.530</td>\n",
       "      <td>0.0</td>\n",
       "      <td>yes</td>\n",
       "      <td>63142.25346</td>\n",
       "      <td>32.0</td>\n",
       "      <td>1091267.0</td>\n",
       "      <td>1.703805e+08</td>\n",
       "      <td>2.0</td>\n",
       "      <td>3.101107e+09</td>\n",
       "      <td>northwest</td>\n",
       "      <td>55135.40209</td>\n",
       "    </tr>\n",
       "    <tr>\n",
       "      <th>1334</th>\n",
       "      <td>31.0</td>\n",
       "      <td>female</td>\n",
       "      <td>38.095</td>\n",
       "      <td>1.0</td>\n",
       "      <td>yes</td>\n",
       "      <td>43419.95227</td>\n",
       "      <td>31.0</td>\n",
       "      <td>1107872.0</td>\n",
       "      <td>2.015152e+08</td>\n",
       "      <td>2.0</td>\n",
       "      <td>3.484216e+09</td>\n",
       "      <td>northeast</td>\n",
       "      <td>58571.07448</td>\n",
       "    </tr>\n",
       "    <tr>\n",
       "      <th>1335</th>\n",
       "      <td>52.0</td>\n",
       "      <td>male</td>\n",
       "      <td>34.485</td>\n",
       "      <td>3.0</td>\n",
       "      <td>yes</td>\n",
       "      <td>52458.92353</td>\n",
       "      <td>25.0</td>\n",
       "      <td>1092005.0</td>\n",
       "      <td>2.236450e+08</td>\n",
       "      <td>2.0</td>\n",
       "      <td>3.640807e+09</td>\n",
       "      <td>northwest</td>\n",
       "      <td>60021.39897</td>\n",
       "    </tr>\n",
       "    <tr>\n",
       "      <th>1336</th>\n",
       "      <td>45.0</td>\n",
       "      <td>male</td>\n",
       "      <td>30.360</td>\n",
       "      <td>0.0</td>\n",
       "      <td>yes</td>\n",
       "      <td>69927.51664</td>\n",
       "      <td>34.0</td>\n",
       "      <td>1106821.0</td>\n",
       "      <td>2.528924e+08</td>\n",
       "      <td>3.0</td>\n",
       "      <td>4.006359e+09</td>\n",
       "      <td>southeast</td>\n",
       "      <td>62592.87309</td>\n",
       "    </tr>\n",
       "    <tr>\n",
       "      <th>1337</th>\n",
       "      <td>54.0</td>\n",
       "      <td>female</td>\n",
       "      <td>47.410</td>\n",
       "      <td>0.0</td>\n",
       "      <td>yes</td>\n",
       "      <td>63982.80926</td>\n",
       "      <td>31.0</td>\n",
       "      <td>1100328.0</td>\n",
       "      <td>2.616317e+08</td>\n",
       "      <td>3.0</td>\n",
       "      <td>4.117197e+09</td>\n",
       "      <td>southeast</td>\n",
       "      <td>63770.42801</td>\n",
       "    </tr>\n",
       "  </tbody>\n",
       "</table>\n",
       "<p>1338 rows × 13 columns</p>\n",
       "</div>"
      ],
      "text/plain": [
       "       age     sex     bmi  children smoker  Claim_Amount  past_consultations  \\\n",
       "0     18.0    male  23.210       0.0     no   29087.54313                17.0   \n",
       "1     18.0    male  30.140       0.0     no   39053.67437                 7.0   \n",
       "2     18.0    male  33.330       0.0     no   39023.62759                19.0   \n",
       "3     18.0    male  33.660       0.0     no   28185.39332                11.0   \n",
       "4     18.0    male  34.100       0.0     no   14697.85941                16.0   \n",
       "...    ...     ...     ...       ...    ...           ...                 ...   \n",
       "1333  33.0  female  35.530       0.0    yes   63142.25346                32.0   \n",
       "1334  31.0  female  38.095       1.0    yes   43419.95227                31.0   \n",
       "1335  52.0    male  34.485       3.0    yes   52458.92353                25.0   \n",
       "1336  45.0    male  30.360       0.0    yes   69927.51664                34.0   \n",
       "1337  54.0  female  47.410       0.0    yes   63982.80926                31.0   \n",
       "\n",
       "      num_of_steps  Hospital_expenditure  NUmber_of_past_hospitalizations  \\\n",
       "0         715428.0          4.720921e+06                              0.0   \n",
       "1         699157.0          4.329832e+06                              0.0   \n",
       "2         702341.0          6.884861e+06                              0.0   \n",
       "3         700250.0          4.274774e+06                              0.0   \n",
       "4         711584.0          3.787294e+06                              0.0   \n",
       "...            ...                   ...                              ...   \n",
       "1333     1091267.0          1.703805e+08                              2.0   \n",
       "1334     1107872.0          2.015152e+08                              2.0   \n",
       "1335     1092005.0          2.236450e+08                              2.0   \n",
       "1336     1106821.0          2.528924e+08                              3.0   \n",
       "1337     1100328.0          2.616317e+08                              3.0   \n",
       "\n",
       "      Anual_Salary     region      charges  \n",
       "0     5.578497e+07  southeast   1121.87390  \n",
       "1     1.370089e+07  southeast   1131.50660  \n",
       "2     7.352311e+07  southeast   1135.94070  \n",
       "3     7.581968e+07  southeast   1136.39940  \n",
       "4     2.301232e+07  southeast   1137.01100  \n",
       "...            ...        ...          ...  \n",
       "1333  3.101107e+09  northwest  55135.40209  \n",
       "1334  3.484216e+09  northeast  58571.07448  \n",
       "1335  3.640807e+09  northwest  60021.39897  \n",
       "1336  4.006359e+09  southeast  62592.87309  \n",
       "1337  4.117197e+09  southeast  63770.42801  \n",
       "\n",
       "[1338 rows x 13 columns]"
      ]
     },
     "execution_count": 3,
     "metadata": {},
     "output_type": "execute_result"
    }
   ],
   "source": [
    "insurance"
   ]
  },
  {
   "cell_type": "code",
   "execution_count": 5,
   "id": "5ade3fe0",
   "metadata": {},
   "outputs": [],
   "source": [
    "# EDA -Exploratory Data Analysis"
   ]
  },
  {
   "cell_type": "code",
   "execution_count": 6,
   "id": "8bb3e0ae",
   "metadata": {},
   "outputs": [
    {
     "name": "stdout",
     "output_type": "stream",
     "text": [
      "<class 'pandas.core.frame.DataFrame'>\n",
      "RangeIndex: 1338 entries, 0 to 1337\n",
      "Data columns (total 13 columns):\n",
      " #   Column                           Non-Null Count  Dtype  \n",
      "---  ------                           --------------  -----  \n",
      " 0   age                              1329 non-null   float64\n",
      " 1   sex                              1338 non-null   object \n",
      " 2   bmi                              1335 non-null   float64\n",
      " 3   children                         1333 non-null   float64\n",
      " 4   smoker                           1338 non-null   object \n",
      " 5   Claim_Amount                     1324 non-null   float64\n",
      " 6   past_consultations               1332 non-null   float64\n",
      " 7   num_of_steps                     1335 non-null   float64\n",
      " 8   Hospital_expenditure             1334 non-null   float64\n",
      " 9   NUmber_of_past_hospitalizations  1336 non-null   float64\n",
      " 10  Anual_Salary                     1332 non-null   float64\n",
      " 11  region                           1338 non-null   object \n",
      " 12  charges                          1338 non-null   float64\n",
      "dtypes: float64(10), object(3)\n",
      "memory usage: 136.0+ KB\n"
     ]
    }
   ],
   "source": [
    "insurance.info()"
   ]
  },
  {
   "cell_type": "code",
   "execution_count": 7,
   "id": "8cf93dbb",
   "metadata": {},
   "outputs": [
    {
     "data": {
      "text/plain": [
       "age                                 9\n",
       "sex                                 0\n",
       "bmi                                 3\n",
       "children                            5\n",
       "smoker                              0\n",
       "Claim_Amount                       14\n",
       "past_consultations                  6\n",
       "num_of_steps                        3\n",
       "Hospital_expenditure                4\n",
       "NUmber_of_past_hospitalizations     2\n",
       "Anual_Salary                        6\n",
       "region                              0\n",
       "charges                             0\n",
       "dtype: int64"
      ]
     },
     "execution_count": 7,
     "metadata": {},
     "output_type": "execute_result"
    }
   ],
   "source": [
    "# Null Values\n",
    "insurance.isnull().sum()"
   ]
  },
  {
   "cell_type": "code",
   "execution_count": 8,
   "id": "c53e1009",
   "metadata": {},
   "outputs": [
    {
     "data": {
      "text/plain": [
       "(1338, 13)"
      ]
     },
     "execution_count": 8,
     "metadata": {},
     "output_type": "execute_result"
    }
   ],
   "source": [
    "insurance.shape"
   ]
  },
  {
   "cell_type": "code",
   "execution_count": 9,
   "id": "94d000da",
   "metadata": {},
   "outputs": [
    {
     "ename": "SyntaxError",
     "evalue": "invalid syntax (2619394404.py, line 2)",
     "output_type": "error",
     "traceback": [
      "\u001b[1;36m  File \u001b[1;32m\"C:\\Users\\weclome\\AppData\\Local\\Temp\\ipykernel_9784\\2619394404.py\"\u001b[1;36m, line \u001b[1;32m2\u001b[0m\n\u001b[1;33m    object --> mode\u001b[0m\n\u001b[1;37m            ^\u001b[0m\n\u001b[1;31mSyntaxError\u001b[0m\u001b[1;31m:\u001b[0m invalid syntax\n"
     ]
    }
   ],
   "source": [
    "replace\n",
    "object --> mode\n",
    "mumerical-> mean/median\n"
   ]
  },
  {
   "cell_type": "code",
   "execution_count": 10,
   "id": "001cf5db",
   "metadata": {},
   "outputs": [],
   "source": [
    "col_names=insurance.columns"
   ]
  },
  {
   "cell_type": "code",
   "execution_count": 11,
   "id": "bbfcac76",
   "metadata": {},
   "outputs": [
    {
     "data": {
      "text/plain": [
       "Index(['age', 'sex', 'bmi', 'children', 'smoker', 'Claim_Amount',\n",
       "       'past_consultations', 'num_of_steps', 'Hospital_expenditure',\n",
       "       'NUmber_of_past_hospitalizations', 'Anual_Salary', 'region', 'charges'],\n",
       "      dtype='object')"
      ]
     },
     "execution_count": 11,
     "metadata": {},
     "output_type": "execute_result"
    }
   ],
   "source": [
    "col_names"
   ]
  },
  {
   "cell_type": "code",
   "execution_count": 12,
   "id": "7c2cff7d",
   "metadata": {},
   "outputs": [
    {
     "data": {
      "text/plain": [
       "'male'"
      ]
     },
     "execution_count": 12,
     "metadata": {},
     "output_type": "execute_result"
    }
   ],
   "source": [
    "insurance[\"sex\"].mode()[0]"
   ]
  },
  {
   "cell_type": "code",
   "execution_count": 13,
   "id": "cc754fe4",
   "metadata": {},
   "outputs": [
    {
     "data": {
      "text/plain": [
       "30.665112359550537"
      ]
     },
     "execution_count": 13,
     "metadata": {},
     "output_type": "execute_result"
    }
   ],
   "source": [
    "insurance[\"bmi\"].mean()"
   ]
  },
  {
   "cell_type": "code",
   "execution_count": 14,
   "id": "887ac8ee",
   "metadata": {},
   "outputs": [],
   "source": [
    "insurance[\"age\"]=insurance[\"age\"].fillna(insurance[\"age\"].mode()[0])"
   ]
  },
  {
   "cell_type": "code",
   "execution_count": 15,
   "id": "87ce0d90",
   "metadata": {},
   "outputs": [
    {
     "ename": "NameError",
     "evalue": "name 'i' is not defined",
     "output_type": "error",
     "traceback": [
      "\u001b[1;31m---------------------------------------------------------------------------\u001b[0m",
      "\u001b[1;31mNameError\u001b[0m                                 Traceback (most recent call last)",
      "\u001b[1;32m~\\AppData\\Local\\Temp\\ipykernel_9784\\1414631282.py\u001b[0m in \u001b[0;36m<module>\u001b[1;34m\u001b[0m\n\u001b[1;32m----> 1\u001b[1;33m \u001b[0minsurance\u001b[0m\u001b[1;33m[\u001b[0m\u001b[0mi\u001b[0m\u001b[1;33m]\u001b[0m\u001b[1;33m=\u001b[0m\u001b[0minsurance\u001b[0m\u001b[1;33m[\u001b[0m\u001b[0mi\u001b[0m\u001b[1;33m]\u001b[0m\u001b[1;33m.\u001b[0m\u001b[0mfillna\u001b[0m\u001b[1;33m(\u001b[0m\u001b[0minsurance\u001b[0m\u001b[1;33m[\u001b[0m\u001b[0mi\u001b[0m\u001b[1;33m]\u001b[0m\u001b[1;33m.\u001b[0m\u001b[0mmode\u001b[0m\u001b[1;33m(\u001b[0m\u001b[1;33m)\u001b[0m\u001b[1;33m[\u001b[0m\u001b[1;36m0\u001b[0m\u001b[1;33m]\u001b[0m\u001b[1;33m)\u001b[0m\u001b[1;33m\u001b[0m\u001b[1;33m\u001b[0m\u001b[0m\n\u001b[0m",
      "\u001b[1;31mNameError\u001b[0m: name 'i' is not defined"
     ]
    }
   ],
   "source": [
    "insurance[i]=insurance[i].fillna(insurance[i].mode()[0])"
   ]
  },
  {
   "cell_type": "code",
   "execution_count": null,
   "id": "1f3226bb",
   "metadata": {},
   "outputs": [],
   "source": []
  },
  {
   "cell_type": "code",
   "execution_count": 16,
   "id": "6fc6ccc3",
   "metadata": {},
   "outputs": [],
   "source": [
    "for i in col_names:\n",
    "    if insurance[i].dtype==\"object\":\n",
    "        insurance[i]=insurance[i].fillna(insurance[i].mode()[0])\n",
    "    else:\n",
    "        insurance[i]=insurance[i].fillna(insurance[i].mean())  "
   ]
  },
  {
   "cell_type": "code",
   "execution_count": 17,
   "id": "244d9607",
   "metadata": {},
   "outputs": [
    {
     "data": {
      "text/plain": [
       "age                                0\n",
       "sex                                0\n",
       "bmi                                0\n",
       "children                           0\n",
       "smoker                             0\n",
       "Claim_Amount                       0\n",
       "past_consultations                 0\n",
       "num_of_steps                       0\n",
       "Hospital_expenditure               0\n",
       "NUmber_of_past_hospitalizations    0\n",
       "Anual_Salary                       0\n",
       "region                             0\n",
       "charges                            0\n",
       "dtype: int64"
      ]
     },
     "execution_count": 17,
     "metadata": {},
     "output_type": "execute_result"
    }
   ],
   "source": [
    "insurance.isnull().sum()"
   ]
  },
  {
   "cell_type": "code",
   "execution_count": 18,
   "id": "15d39289",
   "metadata": {},
   "outputs": [
    {
     "data": {
      "text/html": [
       "<div>\n",
       "<style scoped>\n",
       "    .dataframe tbody tr th:only-of-type {\n",
       "        vertical-align: middle;\n",
       "    }\n",
       "\n",
       "    .dataframe tbody tr th {\n",
       "        vertical-align: top;\n",
       "    }\n",
       "\n",
       "    .dataframe thead th {\n",
       "        text-align: right;\n",
       "    }\n",
       "</style>\n",
       "<table border=\"1\" class=\"dataframe\">\n",
       "  <thead>\n",
       "    <tr style=\"text-align: right;\">\n",
       "      <th></th>\n",
       "      <th>age</th>\n",
       "      <th>sex</th>\n",
       "      <th>bmi</th>\n",
       "      <th>children</th>\n",
       "      <th>smoker</th>\n",
       "      <th>Claim_Amount</th>\n",
       "      <th>past_consultations</th>\n",
       "      <th>num_of_steps</th>\n",
       "      <th>Hospital_expenditure</th>\n",
       "      <th>NUmber_of_past_hospitalizations</th>\n",
       "      <th>Anual_Salary</th>\n",
       "      <th>region</th>\n",
       "      <th>charges</th>\n",
       "    </tr>\n",
       "  </thead>\n",
       "  <tbody>\n",
       "    <tr>\n",
       "      <th>0</th>\n",
       "      <td>18.0</td>\n",
       "      <td>male</td>\n",
       "      <td>23.210</td>\n",
       "      <td>0.0</td>\n",
       "      <td>no</td>\n",
       "      <td>29087.54313</td>\n",
       "      <td>17.0</td>\n",
       "      <td>715428.0</td>\n",
       "      <td>4.720921e+06</td>\n",
       "      <td>0.0</td>\n",
       "      <td>5.578497e+07</td>\n",
       "      <td>southeast</td>\n",
       "      <td>1121.87390</td>\n",
       "    </tr>\n",
       "    <tr>\n",
       "      <th>1</th>\n",
       "      <td>18.0</td>\n",
       "      <td>male</td>\n",
       "      <td>30.140</td>\n",
       "      <td>0.0</td>\n",
       "      <td>no</td>\n",
       "      <td>39053.67437</td>\n",
       "      <td>7.0</td>\n",
       "      <td>699157.0</td>\n",
       "      <td>4.329832e+06</td>\n",
       "      <td>0.0</td>\n",
       "      <td>1.370089e+07</td>\n",
       "      <td>southeast</td>\n",
       "      <td>1131.50660</td>\n",
       "    </tr>\n",
       "    <tr>\n",
       "      <th>2</th>\n",
       "      <td>18.0</td>\n",
       "      <td>male</td>\n",
       "      <td>33.330</td>\n",
       "      <td>0.0</td>\n",
       "      <td>no</td>\n",
       "      <td>39023.62759</td>\n",
       "      <td>19.0</td>\n",
       "      <td>702341.0</td>\n",
       "      <td>6.884861e+06</td>\n",
       "      <td>0.0</td>\n",
       "      <td>7.352311e+07</td>\n",
       "      <td>southeast</td>\n",
       "      <td>1135.94070</td>\n",
       "    </tr>\n",
       "    <tr>\n",
       "      <th>3</th>\n",
       "      <td>18.0</td>\n",
       "      <td>male</td>\n",
       "      <td>33.660</td>\n",
       "      <td>0.0</td>\n",
       "      <td>no</td>\n",
       "      <td>28185.39332</td>\n",
       "      <td>11.0</td>\n",
       "      <td>700250.0</td>\n",
       "      <td>4.274774e+06</td>\n",
       "      <td>0.0</td>\n",
       "      <td>7.581968e+07</td>\n",
       "      <td>southeast</td>\n",
       "      <td>1136.39940</td>\n",
       "    </tr>\n",
       "    <tr>\n",
       "      <th>4</th>\n",
       "      <td>18.0</td>\n",
       "      <td>male</td>\n",
       "      <td>34.100</td>\n",
       "      <td>0.0</td>\n",
       "      <td>no</td>\n",
       "      <td>14697.85941</td>\n",
       "      <td>16.0</td>\n",
       "      <td>711584.0</td>\n",
       "      <td>3.787294e+06</td>\n",
       "      <td>0.0</td>\n",
       "      <td>2.301232e+07</td>\n",
       "      <td>southeast</td>\n",
       "      <td>1137.01100</td>\n",
       "    </tr>\n",
       "    <tr>\n",
       "      <th>...</th>\n",
       "      <td>...</td>\n",
       "      <td>...</td>\n",
       "      <td>...</td>\n",
       "      <td>...</td>\n",
       "      <td>...</td>\n",
       "      <td>...</td>\n",
       "      <td>...</td>\n",
       "      <td>...</td>\n",
       "      <td>...</td>\n",
       "      <td>...</td>\n",
       "      <td>...</td>\n",
       "      <td>...</td>\n",
       "      <td>...</td>\n",
       "    </tr>\n",
       "    <tr>\n",
       "      <th>1333</th>\n",
       "      <td>33.0</td>\n",
       "      <td>female</td>\n",
       "      <td>35.530</td>\n",
       "      <td>0.0</td>\n",
       "      <td>yes</td>\n",
       "      <td>63142.25346</td>\n",
       "      <td>32.0</td>\n",
       "      <td>1091267.0</td>\n",
       "      <td>1.703805e+08</td>\n",
       "      <td>2.0</td>\n",
       "      <td>3.101107e+09</td>\n",
       "      <td>northwest</td>\n",
       "      <td>55135.40209</td>\n",
       "    </tr>\n",
       "    <tr>\n",
       "      <th>1334</th>\n",
       "      <td>31.0</td>\n",
       "      <td>female</td>\n",
       "      <td>38.095</td>\n",
       "      <td>1.0</td>\n",
       "      <td>yes</td>\n",
       "      <td>43419.95227</td>\n",
       "      <td>31.0</td>\n",
       "      <td>1107872.0</td>\n",
       "      <td>2.015152e+08</td>\n",
       "      <td>2.0</td>\n",
       "      <td>3.484216e+09</td>\n",
       "      <td>northeast</td>\n",
       "      <td>58571.07448</td>\n",
       "    </tr>\n",
       "    <tr>\n",
       "      <th>1335</th>\n",
       "      <td>52.0</td>\n",
       "      <td>male</td>\n",
       "      <td>34.485</td>\n",
       "      <td>3.0</td>\n",
       "      <td>yes</td>\n",
       "      <td>52458.92353</td>\n",
       "      <td>25.0</td>\n",
       "      <td>1092005.0</td>\n",
       "      <td>2.236450e+08</td>\n",
       "      <td>2.0</td>\n",
       "      <td>3.640807e+09</td>\n",
       "      <td>northwest</td>\n",
       "      <td>60021.39897</td>\n",
       "    </tr>\n",
       "    <tr>\n",
       "      <th>1336</th>\n",
       "      <td>45.0</td>\n",
       "      <td>male</td>\n",
       "      <td>30.360</td>\n",
       "      <td>0.0</td>\n",
       "      <td>yes</td>\n",
       "      <td>69927.51664</td>\n",
       "      <td>34.0</td>\n",
       "      <td>1106821.0</td>\n",
       "      <td>2.528924e+08</td>\n",
       "      <td>3.0</td>\n",
       "      <td>4.006359e+09</td>\n",
       "      <td>southeast</td>\n",
       "      <td>62592.87309</td>\n",
       "    </tr>\n",
       "    <tr>\n",
       "      <th>1337</th>\n",
       "      <td>54.0</td>\n",
       "      <td>female</td>\n",
       "      <td>47.410</td>\n",
       "      <td>0.0</td>\n",
       "      <td>yes</td>\n",
       "      <td>63982.80926</td>\n",
       "      <td>31.0</td>\n",
       "      <td>1100328.0</td>\n",
       "      <td>2.616317e+08</td>\n",
       "      <td>3.0</td>\n",
       "      <td>4.117197e+09</td>\n",
       "      <td>southeast</td>\n",
       "      <td>63770.42801</td>\n",
       "    </tr>\n",
       "  </tbody>\n",
       "</table>\n",
       "<p>1338 rows × 13 columns</p>\n",
       "</div>"
      ],
      "text/plain": [
       "       age     sex     bmi  children smoker  Claim_Amount  past_consultations  \\\n",
       "0     18.0    male  23.210       0.0     no   29087.54313                17.0   \n",
       "1     18.0    male  30.140       0.0     no   39053.67437                 7.0   \n",
       "2     18.0    male  33.330       0.0     no   39023.62759                19.0   \n",
       "3     18.0    male  33.660       0.0     no   28185.39332                11.0   \n",
       "4     18.0    male  34.100       0.0     no   14697.85941                16.0   \n",
       "...    ...     ...     ...       ...    ...           ...                 ...   \n",
       "1333  33.0  female  35.530       0.0    yes   63142.25346                32.0   \n",
       "1334  31.0  female  38.095       1.0    yes   43419.95227                31.0   \n",
       "1335  52.0    male  34.485       3.0    yes   52458.92353                25.0   \n",
       "1336  45.0    male  30.360       0.0    yes   69927.51664                34.0   \n",
       "1337  54.0  female  47.410       0.0    yes   63982.80926                31.0   \n",
       "\n",
       "      num_of_steps  Hospital_expenditure  NUmber_of_past_hospitalizations  \\\n",
       "0         715428.0          4.720921e+06                              0.0   \n",
       "1         699157.0          4.329832e+06                              0.0   \n",
       "2         702341.0          6.884861e+06                              0.0   \n",
       "3         700250.0          4.274774e+06                              0.0   \n",
       "4         711584.0          3.787294e+06                              0.0   \n",
       "...            ...                   ...                              ...   \n",
       "1333     1091267.0          1.703805e+08                              2.0   \n",
       "1334     1107872.0          2.015152e+08                              2.0   \n",
       "1335     1092005.0          2.236450e+08                              2.0   \n",
       "1336     1106821.0          2.528924e+08                              3.0   \n",
       "1337     1100328.0          2.616317e+08                              3.0   \n",
       "\n",
       "      Anual_Salary     region      charges  \n",
       "0     5.578497e+07  southeast   1121.87390  \n",
       "1     1.370089e+07  southeast   1131.50660  \n",
       "2     7.352311e+07  southeast   1135.94070  \n",
       "3     7.581968e+07  southeast   1136.39940  \n",
       "4     2.301232e+07  southeast   1137.01100  \n",
       "...            ...        ...          ...  \n",
       "1333  3.101107e+09  northwest  55135.40209  \n",
       "1334  3.484216e+09  northeast  58571.07448  \n",
       "1335  3.640807e+09  northwest  60021.39897  \n",
       "1336  4.006359e+09  southeast  62592.87309  \n",
       "1337  4.117197e+09  southeast  63770.42801  \n",
       "\n",
       "[1338 rows x 13 columns]"
      ]
     },
     "execution_count": 18,
     "metadata": {},
     "output_type": "execute_result"
    }
   ],
   "source": [
    "insurance"
   ]
  },
  {
   "cell_type": "code",
   "execution_count": 19,
   "id": "4853b7e7",
   "metadata": {},
   "outputs": [
    {
     "data": {
      "text/plain": [
       "0"
      ]
     },
     "execution_count": 19,
     "metadata": {},
     "output_type": "execute_result"
    }
   ],
   "source": [
    "insurance.duplicated().sum()"
   ]
  },
  {
   "cell_type": "code",
   "execution_count": 20,
   "id": "83a512d0",
   "metadata": {},
   "outputs": [],
   "source": [
    "# insuarance.drop_duplicates() we dont have any duplicates so we dont need to perform this code"
   ]
  },
  {
   "cell_type": "code",
   "execution_count": 21,
   "id": "fd6609ea",
   "metadata": {},
   "outputs": [],
   "source": [
    "#presence of outliers\n",
    "import matplotlib.pyplot as plt"
   ]
  },
  {
   "cell_type": "code",
   "execution_count": 22,
   "id": "82dafa7a",
   "metadata": {},
   "outputs": [
    {
     "data": {
      "text/plain": [
       "{'whiskers': [<matplotlib.lines.Line2D at 0x1a00f776400>,\n",
       "  <matplotlib.lines.Line2D at 0x1a00f7766d0>],\n",
       " 'caps': [<matplotlib.lines.Line2D at 0x1a00f7769a0>,\n",
       "  <matplotlib.lines.Line2D at 0x1a00f776c70>],\n",
       " 'boxes': [<matplotlib.lines.Line2D at 0x1a00f776130>],\n",
       " 'medians': [<matplotlib.lines.Line2D at 0x1a00f776f40>],\n",
       " 'fliers': [<matplotlib.lines.Line2D at 0x1a00f786250>],\n",
       " 'means': []}"
      ]
     },
     "execution_count": 22,
     "metadata": {},
     "output_type": "execute_result"
    },
    {
     "data": {
      "image/png": "[encoded data removed]",
      "text/plain": [
       "<Figure size 640x480 with 1 Axes>"
      ]
     },
     "metadata": {},
     "output_type": "display_data"
    }
   ],
   "source": [
    "plt.boxplot(insurance[\"age\"])"
   ]
  },
  {
   "cell_type": "code",
   "execution_count": 23,
   "id": "c6adf9aa",
   "metadata": {},
   "outputs": [
    {
     "data": {
      "image/png": "[encoded data removed]",
      "text/plain": [
       "<Figure size 640x480 with 1 Axes>"
      ]
     },
     "metadata": {},
     "output_type": "display_data"
    },
    {
     "data": {
      "image/png": "[encoded data removed]",
      "text/plain": [
       "<Figure size 640x480 with 1 Axes>"
      ]
     },
     "metadata": {},
     "output_type": "display_data"
    },
    {
     "data": {
      "image/png": "[encoded data removed]",
      "text/plain": [
       "<Figure size 640x480 with 1 Axes>"
      ]
     },
     "metadata": {},
     "output_type": "display_data"
    },
    {
     "data": {
      "image/png": "[encoded data removed]",
      "text/plain": [
       "<Figure size 640x480 with 1 Axes>"
      ]
     },
     "metadata": {},
     "output_type": "display_data"
    },
    {
     "data": {
      "image/png": "[encoded data removed]",
      "text/plain": [
       "<Figure size 640x480 with 1 Axes>"
      ]
     },
     "metadata": {},
     "output_type": "display_data"
    },
    {
     "data": {
      "image/png": "[encoded data removed]",
      "text/plain": [
       "<Figure size 640x480 with 1 Axes>"
      ]
     },
     "metadata": {},
     "output_type": "display_data"
    },
    {
     "data": {
      "image/png": "[encoded data removed]",
      "text/plain": [
       "<Figure size 640x480 with 1 Axes>"
      ]
     },
     "metadata": {},
     "output_type": "display_data"
    },
    {
     "data": {
      "image/png": "[encoded data removed]",
      "text/plain": [
       "<Figure size 640x480 with 1 Axes>"
      ]
     },
     "metadata": {},
     "output_type": "display_data"
    },
    {
     "data": {
      "image/png": "[encoded data removed]",
      "text/plain": [
       "<Figure size 640x480 with 1 Axes>"
      ]
     },
     "metadata": {},
     "output_type": "display_data"
    },
    {
     "data": {
      "image/png": "[encoded data removed]",
      "text/plain": [
       "<Figure size 640x480 with 1 Axes>"
      ]
     },
     "metadata": {},
     "output_type": "display_data"
    }
   ],
   "source": [
    "#outliers - \n",
    "for col in col_names:\n",
    "    if insurance[col].dtype!=\"object\":\n",
    "        plt.boxplot(insurance[col])\n",
    "        plt.xlabel(col)\n",
    "        plt.ylabel('count')\n",
    "        plt.show()"
   ]
  },
  {
   "cell_type": "code",
   "execution_count": 24,
   "id": "24a15b54",
   "metadata": {},
   "outputs": [],
   "source": [
    "col_list=[\"past_consultations\",\"Hospital_expenditure\",\"NUmber_of_past_hospitalizations\",\"Anual_Salary\",\"charges\"]"
   ]
  },
  {
   "cell_type": "code",
   "execution_count": 25,
   "id": "0d7ca63d",
   "metadata": {},
   "outputs": [
    {
     "ename": "SyntaxError",
     "evalue": "invalid syntax (781562940.py, line 1)",
     "output_type": "error",
     "traceback": [
      "\u001b[1;36m  File \u001b[1;32m\"C:\\Users\\weclome\\AppData\\Local\\Temp\\ipykernel_9784\\781562940.py\"\u001b[1;36m, line \u001b[1;32m1\u001b[0m\n\u001b[1;33m    IQR--> Inter Quartile Range\u001b[0m\n\u001b[1;37m        ^\u001b[0m\n\u001b[1;31mSyntaxError\u001b[0m\u001b[1;31m:\u001b[0m invalid syntax\n"
     ]
    }
   ],
   "source": [
    "IQR--> Inter Quartile Range\n",
    "Q1- 25%\n",
    "Q2- 50%\n",
    "Q3- 75%"
   ]
  },
  {
   "cell_type": "code",
   "execution_count": 26,
   "id": "63de2bd6",
   "metadata": {},
   "outputs": [
    {
     "data": {
      "text/html": [
       "<div>\n",
       "<style scoped>\n",
       "    .dataframe tbody tr th:only-of-type {\n",
       "        vertical-align: middle;\n",
       "    }\n",
       "\n",
       "    .dataframe tbody tr th {\n",
       "        vertical-align: top;\n",
       "    }\n",
       "\n",
       "    .dataframe thead th {\n",
       "        text-align: right;\n",
       "    }\n",
       "</style>\n",
       "<table border=\"1\" class=\"dataframe\">\n",
       "  <thead>\n",
       "    <tr style=\"text-align: right;\">\n",
       "      <th></th>\n",
       "      <th>age</th>\n",
       "      <th>sex</th>\n",
       "      <th>bmi</th>\n",
       "      <th>children</th>\n",
       "      <th>smoker</th>\n",
       "      <th>Claim_Amount</th>\n",
       "      <th>past_consultations</th>\n",
       "      <th>num_of_steps</th>\n",
       "      <th>Hospital_expenditure</th>\n",
       "      <th>NUmber_of_past_hospitalizations</th>\n",
       "      <th>Anual_Salary</th>\n",
       "      <th>region</th>\n",
       "      <th>charges</th>\n",
       "    </tr>\n",
       "  </thead>\n",
       "  <tbody>\n",
       "    <tr>\n",
       "      <th>0</th>\n",
       "      <td>18.0</td>\n",
       "      <td>male</td>\n",
       "      <td>23.210</td>\n",
       "      <td>0.0</td>\n",
       "      <td>no</td>\n",
       "      <td>29087.54313</td>\n",
       "      <td>17.0</td>\n",
       "      <td>715428.0</td>\n",
       "      <td>4.720921e+06</td>\n",
       "      <td>0.0</td>\n",
       "      <td>5.578497e+07</td>\n",
       "      <td>southeast</td>\n",
       "      <td>1121.87390</td>\n",
       "    </tr>\n",
       "    <tr>\n",
       "      <th>1</th>\n",
       "      <td>18.0</td>\n",
       "      <td>male</td>\n",
       "      <td>30.140</td>\n",
       "      <td>0.0</td>\n",
       "      <td>no</td>\n",
       "      <td>39053.67437</td>\n",
       "      <td>7.0</td>\n",
       "      <td>699157.0</td>\n",
       "      <td>4.329832e+06</td>\n",
       "      <td>0.0</td>\n",
       "      <td>1.370089e+07</td>\n",
       "      <td>southeast</td>\n",
       "      <td>1131.50660</td>\n",
       "    </tr>\n",
       "    <tr>\n",
       "      <th>2</th>\n",
       "      <td>18.0</td>\n",
       "      <td>male</td>\n",
       "      <td>33.330</td>\n",
       "      <td>0.0</td>\n",
       "      <td>no</td>\n",
       "      <td>39023.62759</td>\n",
       "      <td>19.0</td>\n",
       "      <td>702341.0</td>\n",
       "      <td>6.884861e+06</td>\n",
       "      <td>0.0</td>\n",
       "      <td>7.352311e+07</td>\n",
       "      <td>southeast</td>\n",
       "      <td>1135.94070</td>\n",
       "    </tr>\n",
       "    <tr>\n",
       "      <th>3</th>\n",
       "      <td>18.0</td>\n",
       "      <td>male</td>\n",
       "      <td>33.660</td>\n",
       "      <td>0.0</td>\n",
       "      <td>no</td>\n",
       "      <td>28185.39332</td>\n",
       "      <td>11.0</td>\n",
       "      <td>700250.0</td>\n",
       "      <td>4.274774e+06</td>\n",
       "      <td>0.0</td>\n",
       "      <td>7.581968e+07</td>\n",
       "      <td>southeast</td>\n",
       "      <td>1136.39940</td>\n",
       "    </tr>\n",
       "    <tr>\n",
       "      <th>4</th>\n",
       "      <td>18.0</td>\n",
       "      <td>male</td>\n",
       "      <td>34.100</td>\n",
       "      <td>0.0</td>\n",
       "      <td>no</td>\n",
       "      <td>14697.85941</td>\n",
       "      <td>16.0</td>\n",
       "      <td>711584.0</td>\n",
       "      <td>3.787294e+06</td>\n",
       "      <td>0.0</td>\n",
       "      <td>2.301232e+07</td>\n",
       "      <td>southeast</td>\n",
       "      <td>1137.01100</td>\n",
       "    </tr>\n",
       "    <tr>\n",
       "      <th>...</th>\n",
       "      <td>...</td>\n",
       "      <td>...</td>\n",
       "      <td>...</td>\n",
       "      <td>...</td>\n",
       "      <td>...</td>\n",
       "      <td>...</td>\n",
       "      <td>...</td>\n",
       "      <td>...</td>\n",
       "      <td>...</td>\n",
       "      <td>...</td>\n",
       "      <td>...</td>\n",
       "      <td>...</td>\n",
       "      <td>...</td>\n",
       "    </tr>\n",
       "    <tr>\n",
       "      <th>1333</th>\n",
       "      <td>33.0</td>\n",
       "      <td>female</td>\n",
       "      <td>35.530</td>\n",
       "      <td>0.0</td>\n",
       "      <td>yes</td>\n",
       "      <td>63142.25346</td>\n",
       "      <td>32.0</td>\n",
       "      <td>1091267.0</td>\n",
       "      <td>1.703805e+08</td>\n",
       "      <td>2.0</td>\n",
       "      <td>3.101107e+09</td>\n",
       "      <td>northwest</td>\n",
       "      <td>55135.40209</td>\n",
       "    </tr>\n",
       "    <tr>\n",
       "      <th>1334</th>\n",
       "      <td>31.0</td>\n",
       "      <td>female</td>\n",
       "      <td>38.095</td>\n",
       "      <td>1.0</td>\n",
       "      <td>yes</td>\n",
       "      <td>43419.95227</td>\n",
       "      <td>31.0</td>\n",
       "      <td>1107872.0</td>\n",
       "      <td>2.015152e+08</td>\n",
       "      <td>2.0</td>\n",
       "      <td>3.484216e+09</td>\n",
       "      <td>northeast</td>\n",
       "      <td>58571.07448</td>\n",
       "    </tr>\n",
       "    <tr>\n",
       "      <th>1335</th>\n",
       "      <td>52.0</td>\n",
       "      <td>male</td>\n",
       "      <td>34.485</td>\n",
       "      <td>3.0</td>\n",
       "      <td>yes</td>\n",
       "      <td>52458.92353</td>\n",
       "      <td>25.0</td>\n",
       "      <td>1092005.0</td>\n",
       "      <td>2.236450e+08</td>\n",
       "      <td>2.0</td>\n",
       "      <td>3.640807e+09</td>\n",
       "      <td>northwest</td>\n",
       "      <td>60021.39897</td>\n",
       "    </tr>\n",
       "    <tr>\n",
       "      <th>1336</th>\n",
       "      <td>45.0</td>\n",
       "      <td>male</td>\n",
       "      <td>30.360</td>\n",
       "      <td>0.0</td>\n",
       "      <td>yes</td>\n",
       "      <td>69927.51664</td>\n",
       "      <td>34.0</td>\n",
       "      <td>1106821.0</td>\n",
       "      <td>2.528924e+08</td>\n",
       "      <td>3.0</td>\n",
       "      <td>4.006359e+09</td>\n",
       "      <td>southeast</td>\n",
       "      <td>62592.87309</td>\n",
       "    </tr>\n",
       "    <tr>\n",
       "      <th>1337</th>\n",
       "      <td>54.0</td>\n",
       "      <td>female</td>\n",
       "      <td>47.410</td>\n",
       "      <td>0.0</td>\n",
       "      <td>yes</td>\n",
       "      <td>63982.80926</td>\n",
       "      <td>31.0</td>\n",
       "      <td>1100328.0</td>\n",
       "      <td>2.616317e+08</td>\n",
       "      <td>3.0</td>\n",
       "      <td>4.117197e+09</td>\n",
       "      <td>southeast</td>\n",
       "      <td>63770.42801</td>\n",
       "    </tr>\n",
       "  </tbody>\n",
       "</table>\n",
       "<p>1338 rows × 13 columns</p>\n",
       "</div>"
      ],
      "text/plain": [
       "       age     sex     bmi  children smoker  Claim_Amount  past_consultations  \\\n",
       "0     18.0    male  23.210       0.0     no   29087.54313                17.0   \n",
       "1     18.0    male  30.140       0.0     no   39053.67437                 7.0   \n",
       "2     18.0    male  33.330       0.0     no   39023.62759                19.0   \n",
       "3     18.0    male  33.660       0.0     no   28185.39332                11.0   \n",
       "4     18.0    male  34.100       0.0     no   14697.85941                16.0   \n",
       "...    ...     ...     ...       ...    ...           ...                 ...   \n",
       "1333  33.0  female  35.530       0.0    yes   63142.25346                32.0   \n",
       "1334  31.0  female  38.095       1.0    yes   43419.95227                31.0   \n",
       "1335  52.0    male  34.485       3.0    yes   52458.92353                25.0   \n",
       "1336  45.0    male  30.360       0.0    yes   69927.51664                34.0   \n",
       "1337  54.0  female  47.410       0.0    yes   63982.80926                31.0   \n",
       "\n",
       "      num_of_steps  Hospital_expenditure  NUmber_of_past_hospitalizations  \\\n",
       "0         715428.0          4.720921e+06                              0.0   \n",
       "1         699157.0          4.329832e+06                              0.0   \n",
       "2         702341.0          6.884861e+06                              0.0   \n",
       "3         700250.0          4.274774e+06                              0.0   \n",
       "4         711584.0          3.787294e+06                              0.0   \n",
       "...            ...                   ...                              ...   \n",
       "1333     1091267.0          1.703805e+08                              2.0   \n",
       "1334     1107872.0          2.015152e+08                              2.0   \n",
       "1335     1092005.0          2.236450e+08                              2.0   \n",
       "1336     1106821.0          2.528924e+08                              3.0   \n",
       "1337     1100328.0          2.616317e+08                              3.0   \n",
       "\n",
       "      Anual_Salary     region      charges  \n",
       "0     5.578497e+07  southeast   1121.87390  \n",
       "1     1.370089e+07  southeast   1131.50660  \n",
       "2     7.352311e+07  southeast   1135.94070  \n",
       "3     7.581968e+07  southeast   1136.39940  \n",
       "4     2.301232e+07  southeast   1137.01100  \n",
       "...            ...        ...          ...  \n",
       "1333  3.101107e+09  northwest  55135.40209  \n",
       "1334  3.484216e+09  northeast  58571.07448  \n",
       "1335  3.640807e+09  northwest  60021.39897  \n",
       "1336  4.006359e+09  southeast  62592.87309  \n",
       "1337  4.117197e+09  southeast  63770.42801  \n",
       "\n",
       "[1338 rows x 13 columns]"
      ]
     },
     "execution_count": 26,
     "metadata": {},
     "output_type": "execute_result"
    }
   ],
   "source": [
    "insurance"
   ]
  },
  {
   "cell_type": "code",
   "execution_count": 27,
   "id": "aecacdd3",
   "metadata": {},
   "outputs": [],
   "source": [
    "Q1=insurance[\"bmi\"].quantile(0.25)\n",
    "Q2=insurance[\"bmi\"].quantile(0.50)\n",
    "Q3=insurance[\"bmi\"].quantile(0.75)"
   ]
  },
  {
   "cell_type": "code",
   "execution_count": 28,
   "id": "e4ab5952",
   "metadata": {},
   "outputs": [
    {
     "data": {
      "text/plain": [
       "(26.315, 30.4, 34.65625)"
      ]
     },
     "execution_count": 28,
     "metadata": {},
     "output_type": "execute_result"
    }
   ],
   "source": [
    "Q1,Q2,Q3"
   ]
  },
  {
   "cell_type": "code",
   "execution_count": 29,
   "id": "15f1f92b",
   "metadata": {},
   "outputs": [],
   "source": [
    "IQR=Q3-Q1"
   ]
  },
  {
   "cell_type": "code",
   "execution_count": 30,
   "id": "963a045d",
   "metadata": {},
   "outputs": [
    {
     "data": {
      "text/plain": [
       "8.341249999999999"
      ]
     },
     "execution_count": 30,
     "metadata": {},
     "output_type": "execute_result"
    }
   ],
   "source": [
    "IQR"
   ]
  },
  {
   "cell_type": "code",
   "execution_count": 31,
   "id": "ea30f514",
   "metadata": {},
   "outputs": [],
   "source": [
    "lower_range =Q1-1.5*IQR\n",
    "upper_range =Q3+1.5*IQR"
   ]
  },
  {
   "cell_type": "code",
   "execution_count": 32,
   "id": "7be01dbf",
   "metadata": {},
   "outputs": [
    {
     "data": {
      "text/plain": [
       "(13.803125000000003, 47.168124999999996)"
      ]
     },
     "execution_count": 32,
     "metadata": {},
     "output_type": "execute_result"
    }
   ],
   "source": [
    "lower_range,upper_range"
   ]
  },
  {
   "cell_type": "code",
   "execution_count": 33,
   "id": "2c2e3136",
   "metadata": {},
   "outputs": [],
   "source": [
    "insurance = insurance[(insurance['bmi']>=lower_range) & (insurance['bmi']<=upper_range)]"
   ]
  },
  {
   "cell_type": "code",
   "execution_count": 34,
   "id": "c3cbc12e",
   "metadata": {},
   "outputs": [],
   "source": [
    "for i in col_list:\n",
    "    Q1=insurance[i].quantile(0.25)\n",
    "    Q2=insurance[i].quantile(0.50)\n",
    "    Q3=insurance[i].quantile(0.75)\n",
    "    IQR=Q3-Q1\n",
    "    lower_range =Q1-1.5*IQR\n",
    "    upper_range =Q3+1.5*IQR\n",
    "    insurance = insurance[(insurance[i]>=lower_range) & (insurance[i]<=upper_range)]"
   ]
  },
  {
   "cell_type": "code",
   "execution_count": 35,
   "id": "8230c07c",
   "metadata": {},
   "outputs": [
    {
     "data": {
      "image/png": "[encoded data removed]",
      "text/plain": [
       "<Figure size 640x480 with 1 Axes>"
      ]
     },
     "metadata": {},
     "output_type": "display_data"
    },
    {
     "data": {
      "image/png": "[encoded data removed]",
      "text/plain": [
       "<Figure size 640x480 with 1 Axes>"
      ]
     },
     "metadata": {},
     "output_type": "display_data"
    },
    {
     "data": {
      "image/png": "[encoded data removed]",
      "text/plain": [
       "<Figure size 640x480 with 1 Axes>"
      ]
     },
     "metadata": {},
     "output_type": "display_data"
    },
    {
     "data": {
      "image/png": "[encoded data removed]",
      "text/plain": [
       "<Figure size 640x480 with 1 Axes>"
      ]
     },
     "metadata": {},
     "output_type": "display_data"
    },
    {
     "data": {
      "image/png": "[encoded data removed]",
      "text/plain": [
       "<Figure size 640x480 with 1 Axes>"
      ]
     },
     "metadata": {},
     "output_type": "display_data"
    },
    {
     "data": {
      "image/png": "[encoded data removed]",
      "text/plain": [
       "<Figure size 640x480 with 1 Axes>"
      ]
     },
     "metadata": {},
     "output_type": "display_data"
    },
    {
     "data": {
      "image/png": "[encoded data removed]",
      "text/plain": [
       "<Figure size 640x480 with 1 Axes>"
      ]
     },
     "metadata": {},
     "output_type": "display_data"
    },
    {
     "data": {
      "image/png": "[encoded data removed]",
      "text/plain": [
       "<Figure size 640x480 with 1 Axes>"
      ]
     },
     "metadata": {},
     "output_type": "display_data"
    },
    {
     "data": {
      "image/png": "[encoded data removed]",
      "text/plain": [
       "<Figure size 640x480 with 1 Axes>"
      ]
     },
     "metadata": {},
     "output_type": "display_data"
    },
    {
     "data": {
      "image/png": "[encoded data removed]",
      "text/plain": [
       "<Figure size 640x480 with 1 Axes>"
      ]
     },
     "metadata": {},
     "output_type": "display_data"
    }
   ],
   "source": [
    "#outliers - \n",
    "for col in col_names:\n",
    "    if insurance[col].dtype!=\"object\":\n",
    "        plt.boxplot(insurance[col])\n",
    "        plt.xlabel(col)\n",
    "        plt.ylabel('count')\n",
    "        plt.show()"
   ]
  },
  {
   "cell_type": "code",
   "execution_count": 36,
   "id": "5ad21c13",
   "metadata": {},
   "outputs": [
    {
     "data": {
      "text/plain": [
       "(881, 13)"
      ]
     },
     "execution_count": 36,
     "metadata": {},
     "output_type": "execute_result"
    }
   ],
   "source": [
    "insurance.shape"
   ]
  },
  {
   "cell_type": "code",
   "execution_count": 37,
   "id": "9933f0e3",
   "metadata": {},
   "outputs": [],
   "source": [
    "# Visualiation "
   ]
  },
  {
   "cell_type": "code",
   "execution_count": 38,
   "id": "64032f4b",
   "metadata": {},
   "outputs": [
    {
     "data": {
      "image/png": "[encoded data removed]",
      "text/plain": [
       "<Figure size 640x480 with 1 Axes>"
      ]
     },
     "metadata": {},
     "output_type": "display_data"
    },
    {
     "data": {
      "image/png": "[encoded data removed]",
      "text/plain": [
       "<Figure size 640x480 with 1 Axes>"
      ]
     },
     "metadata": {},
     "output_type": "display_data"
    },
    {
     "data": {
      "image/png": "[encoded data removed]",
      "text/plain": [
       "<Figure size 640x480 with 1 Axes>"
      ]
     },
     "metadata": {},
     "output_type": "display_data"
    },
    {
     "data": {
      "image/png": "[encoded data removed]",
      "text/plain": [
       "<Figure size 640x480 with 1 Axes>"
      ]
     },
     "metadata": {},
     "output_type": "display_data"
    },
    {
     "data": {
      "image/png": "[encoded data removed]",
      "text/plain": [
       "<Figure size 640x480 with 1 Axes>"
      ]
     },
     "metadata": {},
     "output_type": "display_data"
    },
    {
     "data": {
      "image/png": "[encoded data removed]",
      "text/plain": [
       "<Figure size 640x480 with 1 Axes>"
      ]
     },
     "metadata": {},
     "output_type": "display_data"
    },
    {
     "data": {
      "image/png": "[encoded data removed]",
      "text/plain": [
       "<Figure size 640x480 with 1 Axes>"
      ]
     },
     "metadata": {},
     "output_type": "display_data"
    },
    {
     "data": {
      "image/png": "[encoded data removed]",
      "text/plain": [
       "<Figure size 640x480 with 1 Axes>"
      ]
     },
     "metadata": {},
     "output_type": "display_data"
    },
    {
     "data": {
      "image/png": "[encoded data removed]",
      "text/plain": [
       "<Figure size 640x480 with 1 Axes>"
      ]
     },
     "metadata": {},
     "output_type": "display_data"
    },
    {
     "data": {
      "image/png": "[encoded data removed]",
      "text/plain": [
       "<Figure size 640x480 with 1 Axes>"
      ]
     },
     "metadata": {},
     "output_type": "display_data"
    }
   ],
   "source": [
    "for col in col_names:\n",
    "    if insurance[col].dtype!=\"object\":\n",
    "        plt.hist(insurance[col])\n",
    "        plt.xlabel(col)\n",
    "        plt.ylabel('count')\n",
    "        plt.show()"
   ]
  },
  {
   "cell_type": "code",
   "execution_count": 39,
   "id": "2cb00b54",
   "metadata": {},
   "outputs": [],
   "source": [
    "# Rest of the VISUALIZATION  as Homework"
   ]
  },
  {
   "cell_type": "code",
   "execution_count": 40,
   "id": "2114a6db",
   "metadata": {},
   "outputs": [
    {
     "ename": "NameError",
     "evalue": "name 'correlation' is not defined",
     "output_type": "error",
     "traceback": [
      "\u001b[1;31m---------------------------------------------------------------------------\u001b[0m",
      "\u001b[1;31mNameError\u001b[0m                                 Traceback (most recent call last)",
      "\u001b[1;32m~\\AppData\\Local\\Temp\\ipykernel_9784\\1206693458.py\u001b[0m in \u001b[0;36m<module>\u001b[1;34m\u001b[0m\n\u001b[0;32m      1\u001b[0m \u001b[1;31m#feature selections\u001b[0m\u001b[1;33m\u001b[0m\u001b[1;33m\u001b[0m\u001b[0m\n\u001b[1;32m----> 2\u001b[1;33m \u001b[0mcorrelation\u001b[0m\u001b[1;33m\u001b[0m\u001b[1;33m\u001b[0m\u001b[0m\n\u001b[0m\u001b[0;32m      3\u001b[0m \u001b[0mVIF\u001b[0m\u001b[1;33m\u001b[0m\u001b[1;33m\u001b[0m\u001b[0m\n",
      "\u001b[1;31mNameError\u001b[0m: name 'correlation' is not defined"
     ]
    }
   ],
   "source": [
    "#feature selections\n",
    "correlation\n",
    "VIF"
   ]
  },
  {
   "cell_type": "code",
   "execution_count": 41,
   "id": "ba3c0de3",
   "metadata": {},
   "outputs": [
    {
     "data": {
      "text/html": [
       "<div>\n",
       "<style scoped>\n",
       "    .dataframe tbody tr th:only-of-type {\n",
       "        vertical-align: middle;\n",
       "    }\n",
       "\n",
       "    .dataframe tbody tr th {\n",
       "        vertical-align: top;\n",
       "    }\n",
       "\n",
       "    .dataframe thead th {\n",
       "        text-align: right;\n",
       "    }\n",
       "</style>\n",
       "<table border=\"1\" class=\"dataframe\">\n",
       "  <thead>\n",
       "    <tr style=\"text-align: right;\">\n",
       "      <th></th>\n",
       "      <th>age</th>\n",
       "      <th>bmi</th>\n",
       "      <th>children</th>\n",
       "      <th>Claim_Amount</th>\n",
       "      <th>past_consultations</th>\n",
       "      <th>num_of_steps</th>\n",
       "      <th>Hospital_expenditure</th>\n",
       "      <th>NUmber_of_past_hospitalizations</th>\n",
       "      <th>Anual_Salary</th>\n",
       "      <th>charges</th>\n",
       "    </tr>\n",
       "  </thead>\n",
       "  <tbody>\n",
       "    <tr>\n",
       "      <th>age</th>\n",
       "      <td>1.000000</td>\n",
       "      <td>0.183984</td>\n",
       "      <td>-0.147639</td>\n",
       "      <td>0.067501</td>\n",
       "      <td>0.129532</td>\n",
       "      <td>0.652798</td>\n",
       "      <td>0.121272</td>\n",
       "      <td>NaN</td>\n",
       "      <td>0.403690</td>\n",
       "      <td>0.556452</td>\n",
       "    </tr>\n",
       "    <tr>\n",
       "      <th>bmi</th>\n",
       "      <td>0.183984</td>\n",
       "      <td>1.000000</td>\n",
       "      <td>0.004529</td>\n",
       "      <td>-0.007295</td>\n",
       "      <td>-0.014772</td>\n",
       "      <td>0.033153</td>\n",
       "      <td>0.005874</td>\n",
       "      <td>NaN</td>\n",
       "      <td>-0.010409</td>\n",
       "      <td>-0.000971</td>\n",
       "    </tr>\n",
       "    <tr>\n",
       "      <th>children</th>\n",
       "      <td>-0.147639</td>\n",
       "      <td>0.004529</td>\n",
       "      <td>1.000000</td>\n",
       "      <td>0.004803</td>\n",
       "      <td>-0.000280</td>\n",
       "      <td>-0.006571</td>\n",
       "      <td>-0.055478</td>\n",
       "      <td>NaN</td>\n",
       "      <td>-0.057831</td>\n",
       "      <td>-0.043309</td>\n",
       "    </tr>\n",
       "    <tr>\n",
       "      <th>Claim_Amount</th>\n",
       "      <td>0.067501</td>\n",
       "      <td>-0.007295</td>\n",
       "      <td>0.004803</td>\n",
       "      <td>1.000000</td>\n",
       "      <td>0.050640</td>\n",
       "      <td>0.171150</td>\n",
       "      <td>0.032715</td>\n",
       "      <td>NaN</td>\n",
       "      <td>0.138483</td>\n",
       "      <td>0.168353</td>\n",
       "    </tr>\n",
       "    <tr>\n",
       "      <th>past_consultations</th>\n",
       "      <td>0.129532</td>\n",
       "      <td>-0.014772</td>\n",
       "      <td>-0.000280</td>\n",
       "      <td>0.050640</td>\n",
       "      <td>1.000000</td>\n",
       "      <td>0.251344</td>\n",
       "      <td>0.098304</td>\n",
       "      <td>NaN</td>\n",
       "      <td>0.248714</td>\n",
       "      <td>0.260292</td>\n",
       "    </tr>\n",
       "    <tr>\n",
       "      <th>num_of_steps</th>\n",
       "      <td>0.652798</td>\n",
       "      <td>0.033153</td>\n",
       "      <td>-0.006571</td>\n",
       "      <td>0.171150</td>\n",
       "      <td>0.251344</td>\n",
       "      <td>1.000000</td>\n",
       "      <td>0.324054</td>\n",
       "      <td>NaN</td>\n",
       "      <td>0.835538</td>\n",
       "      <td>0.957156</td>\n",
       "    </tr>\n",
       "    <tr>\n",
       "      <th>Hospital_expenditure</th>\n",
       "      <td>0.121272</td>\n",
       "      <td>0.005874</td>\n",
       "      <td>-0.055478</td>\n",
       "      <td>0.032715</td>\n",
       "      <td>0.098304</td>\n",
       "      <td>0.324054</td>\n",
       "      <td>1.000000</td>\n",
       "      <td>NaN</td>\n",
       "      <td>0.374527</td>\n",
       "      <td>0.368732</td>\n",
       "    </tr>\n",
       "    <tr>\n",
       "      <th>NUmber_of_past_hospitalizations</th>\n",
       "      <td>NaN</td>\n",
       "      <td>NaN</td>\n",
       "      <td>NaN</td>\n",
       "      <td>NaN</td>\n",
       "      <td>NaN</td>\n",
       "      <td>NaN</td>\n",
       "      <td>NaN</td>\n",
       "      <td>NaN</td>\n",
       "      <td>NaN</td>\n",
       "      <td>NaN</td>\n",
       "    </tr>\n",
       "    <tr>\n",
       "      <th>Anual_Salary</th>\n",
       "      <td>0.403690</td>\n",
       "      <td>-0.010409</td>\n",
       "      <td>-0.057831</td>\n",
       "      <td>0.138483</td>\n",
       "      <td>0.248714</td>\n",
       "      <td>0.835538</td>\n",
       "      <td>0.374527</td>\n",
       "      <td>NaN</td>\n",
       "      <td>1.000000</td>\n",
       "      <td>0.916169</td>\n",
       "    </tr>\n",
       "    <tr>\n",
       "      <th>charges</th>\n",
       "      <td>0.556452</td>\n",
       "      <td>-0.000971</td>\n",
       "      <td>-0.043309</td>\n",
       "      <td>0.168353</td>\n",
       "      <td>0.260292</td>\n",
       "      <td>0.957156</td>\n",
       "      <td>0.368732</td>\n",
       "      <td>NaN</td>\n",
       "      <td>0.916169</td>\n",
       "      <td>1.000000</td>\n",
       "    </tr>\n",
       "  </tbody>\n",
       "</table>\n",
       "</div>"
      ],
      "text/plain": [
       "                                      age       bmi  children  Claim_Amount  \\\n",
       "age                              1.000000  0.183984 -0.147639      0.067501   \n",
       "bmi                              0.183984  1.000000  0.004529     -0.007295   \n",
       "children                        -0.147639  0.004529  1.000000      0.004803   \n",
       "Claim_Amount                     0.067501 -0.007295  0.004803      1.000000   \n",
       "past_consultations               0.129532 -0.014772 -0.000280      0.050640   \n",
       "num_of_steps                     0.652798  0.033153 -0.006571      0.171150   \n",
       "Hospital_expenditure             0.121272  0.005874 -0.055478      0.032715   \n",
       "NUmber_of_past_hospitalizations       NaN       NaN       NaN           NaN   \n",
       "Anual_Salary                     0.403690 -0.010409 -0.057831      0.138483   \n",
       "charges                          0.556452 -0.000971 -0.043309      0.168353   \n",
       "\n",
       "                                 past_consultations  num_of_steps  \\\n",
       "age                                        0.129532      0.652798   \n",
       "bmi                                       -0.014772      0.033153   \n",
       "children                                  -0.000280     -0.006571   \n",
       "Claim_Amount                               0.050640      0.171150   \n",
       "past_consultations                         1.000000      0.251344   \n",
       "num_of_steps                               0.251344      1.000000   \n",
       "Hospital_expenditure                       0.098304      0.324054   \n",
       "NUmber_of_past_hospitalizations                 NaN           NaN   \n",
       "Anual_Salary                               0.248714      0.835538   \n",
       "charges                                    0.260292      0.957156   \n",
       "\n",
       "                                 Hospital_expenditure  \\\n",
       "age                                          0.121272   \n",
       "bmi                                          0.005874   \n",
       "children                                    -0.055478   \n",
       "Claim_Amount                                 0.032715   \n",
       "past_consultations                           0.098304   \n",
       "num_of_steps                                 0.324054   \n",
       "Hospital_expenditure                         1.000000   \n",
       "NUmber_of_past_hospitalizations                   NaN   \n",
       "Anual_Salary                                 0.374527   \n",
       "charges                                      0.368732   \n",
       "\n",
       "                                 NUmber_of_past_hospitalizations  \\\n",
       "age                                                          NaN   \n",
       "bmi                                                          NaN   \n",
       "children                                                     NaN   \n",
       "Claim_Amount                                                 NaN   \n",
       "past_consultations                                           NaN   \n",
       "num_of_steps                                                 NaN   \n",
       "Hospital_expenditure                                         NaN   \n",
       "NUmber_of_past_hospitalizations                              NaN   \n",
       "Anual_Salary                                                 NaN   \n",
       "charges                                                      NaN   \n",
       "\n",
       "                                 Anual_Salary   charges  \n",
       "age                                  0.403690  0.556452  \n",
       "bmi                                 -0.010409 -0.000971  \n",
       "children                            -0.057831 -0.043309  \n",
       "Claim_Amount                         0.138483  0.168353  \n",
       "past_consultations                   0.248714  0.260292  \n",
       "num_of_steps                         0.835538  0.957156  \n",
       "Hospital_expenditure                 0.374527  0.368732  \n",
       "NUmber_of_past_hospitalizations           NaN       NaN  \n",
       "Anual_Salary                         1.000000  0.916169  \n",
       "charges                              0.916169  1.000000  "
      ]
     },
     "execution_count": 41,
     "metadata": {},
     "output_type": "execute_result"
    }
   ],
   "source": [
    "insurance.corr().T"
   ]
  },
  {
   "cell_type": "code",
   "execution_count": 42,
   "id": "04bfe80b",
   "metadata": {},
   "outputs": [],
   "source": [
    "import seaborn as sns"
   ]
  },
  {
   "cell_type": "code",
   "execution_count": 43,
   "id": "04eb7a33",
   "metadata": {},
   "outputs": [
    {
     "data": {
      "text/plain": [
       "<AxesSubplot:>"
      ]
     },
     "execution_count": 43,
     "metadata": {},
     "output_type": "execute_result"
    },
    {
     "data": {
      "image/png": "[encoded data removed]",
      "text/plain": [
       "<Figure size 1000x500 with 2 Axes>"
      ]
     },
     "metadata": {},
     "output_type": "display_data"
    }
   ],
   "source": [
    "fig=plt.figure(figsize=(10,5))\n",
    "sns.heatmap(insurance.corr(),annot=True,cmap=\"rainbow\")"
   ]
  },
  {
   "cell_type": "code",
   "execution_count": 44,
   "id": "4b5a39d6",
   "metadata": {},
   "outputs": [
    {
     "ename": "SyntaxError",
     "evalue": "invalid syntax (207717154.py, line 1)",
     "output_type": "error",
     "traceback": [
      "\u001b[1;36m  File \u001b[1;32m\"C:\\Users\\weclome\\AppData\\Local\\Temp\\ipykernel_9784\\207717154.py\"\u001b[1;36m, line \u001b[1;32m1\u001b[0m\n\u001b[1;33m    VIF -Variance Inflation Factor\u001b[0m\n\u001b[1;37m                  ^\u001b[0m\n\u001b[1;31mSyntaxError\u001b[0m\u001b[1;31m:\u001b[0m invalid syntax\n"
     ]
    }
   ],
   "source": [
    "VIF -Variance Inflation Factor"
   ]
  },
  {
   "cell_type": "code",
   "execution_count": 47,
   "id": "96766249",
   "metadata": {},
   "outputs": [],
   "source": [
    "from statsmodels.stats.outliers_influence import variance_inflation_factor\n",
    "col_list = []\n",
    "for col in insurance.columns:\n",
    "    if((insurance[col].dtype!='object') & (col!='charges')):\n",
    "        col_list.append(col)"
   ]
  },
  {
   "cell_type": "code",
   "execution_count": 48,
   "id": "76b2d145",
   "metadata": {},
   "outputs": [
    {
     "data": {
      "text/plain": [
       "['age',\n",
       " 'bmi',\n",
       " 'children',\n",
       " 'Claim_Amount',\n",
       " 'past_consultations',\n",
       " 'num_of_steps',\n",
       " 'Hospital_expenditure',\n",
       " 'NUmber_of_past_hospitalizations',\n",
       " 'Anual_Salary']"
      ]
     },
     "execution_count": 48,
     "metadata": {},
     "output_type": "execute_result"
    }
   ],
   "source": [
    "col_list"
   ]
  },
  {
   "cell_type": "code",
   "execution_count": 49,
   "id": "87c0f8d9",
   "metadata": {},
   "outputs": [
    {
     "data": {
      "text/html": [
       "<div>\n",
       "<style scoped>\n",
       "    .dataframe tbody tr th:only-of-type {\n",
       "        vertical-align: middle;\n",
       "    }\n",
       "\n",
       "    .dataframe tbody tr th {\n",
       "        vertical-align: top;\n",
       "    }\n",
       "\n",
       "    .dataframe thead th {\n",
       "        text-align: right;\n",
       "    }\n",
       "</style>\n",
       "<table border=\"1\" class=\"dataframe\">\n",
       "  <thead>\n",
       "    <tr style=\"text-align: right;\">\n",
       "      <th></th>\n",
       "      <th>feature</th>\n",
       "      <th>VIF values</th>\n",
       "    </tr>\n",
       "  </thead>\n",
       "  <tbody>\n",
       "    <tr>\n",
       "      <th>0</th>\n",
       "      <td>age</td>\n",
       "      <td>2.207675</td>\n",
       "    </tr>\n",
       "    <tr>\n",
       "      <th>1</th>\n",
       "      <td>bmi</td>\n",
       "      <td>1.052735</td>\n",
       "    </tr>\n",
       "    <tr>\n",
       "      <th>2</th>\n",
       "      <td>children</td>\n",
       "      <td>1.075276</td>\n",
       "    </tr>\n",
       "    <tr>\n",
       "      <th>3</th>\n",
       "      <td>Claim_Amount</td>\n",
       "      <td>1.035754</td>\n",
       "    </tr>\n",
       "    <tr>\n",
       "      <th>4</th>\n",
       "      <td>past_consultations</td>\n",
       "      <td>1.074029</td>\n",
       "    </tr>\n",
       "    <tr>\n",
       "      <th>5</th>\n",
       "      <td>num_of_steps</td>\n",
       "      <td>5.896868</td>\n",
       "    </tr>\n",
       "    <tr>\n",
       "      <th>6</th>\n",
       "      <td>Hospital_expenditure</td>\n",
       "      <td>1.173537</td>\n",
       "    </tr>\n",
       "    <tr>\n",
       "      <th>7</th>\n",
       "      <td>NUmber_of_past_hospitalizations</td>\n",
       "      <td>1397.629747</td>\n",
       "    </tr>\n",
       "    <tr>\n",
       "      <th>8</th>\n",
       "      <td>Anual_Salary</td>\n",
       "      <td>3.977132</td>\n",
       "    </tr>\n",
       "  </tbody>\n",
       "</table>\n",
       "</div>"
      ],
      "text/plain": [
       "                           feature   VIF values\n",
       "0                              age     2.207675\n",
       "1                              bmi     1.052735\n",
       "2                         children     1.075276\n",
       "3                     Claim_Amount     1.035754\n",
       "4               past_consultations     1.074029\n",
       "5                     num_of_steps     5.896868\n",
       "6             Hospital_expenditure     1.173537\n",
       "7  NUmber_of_past_hospitalizations  1397.629747\n",
       "8                     Anual_Salary     3.977132"
      ]
     },
     "execution_count": 49,
     "metadata": {},
     "output_type": "execute_result"
    }
   ],
   "source": [
    "X = insurance[col_list] #numerical data\n",
    "vif_data = pd.DataFrame()\n",
    "vif_data['feature'] = X.columns\n",
    "vif_data['VIF values'] = [variance_inflation_factor(X.values, i) for i in range(len(X.columns))] \n",
    "vif_data"
   ]
  },
  {
   "cell_type": "code",
   "execution_count": 50,
   "id": "4c38f820",
   "metadata": {},
   "outputs": [],
   "source": [
    "X=X.drop(['NUmber_of_past_hospitalizations'], axis = 1)"
   ]
  },
  {
   "cell_type": "code",
   "execution_count": 51,
   "id": "a6bb4d5a",
   "metadata": {},
   "outputs": [
    {
     "data": {
      "text/html": [
       "<div>\n",
       "<style scoped>\n",
       "    .dataframe tbody tr th:only-of-type {\n",
       "        vertical-align: middle;\n",
       "    }\n",
       "\n",
       "    .dataframe tbody tr th {\n",
       "        vertical-align: top;\n",
       "    }\n",
       "\n",
       "    .dataframe thead th {\n",
       "        text-align: right;\n",
       "    }\n",
       "</style>\n",
       "<table border=\"1\" class=\"dataframe\">\n",
       "  <thead>\n",
       "    <tr style=\"text-align: right;\">\n",
       "      <th></th>\n",
       "      <th>feature</th>\n",
       "      <th>VIF values</th>\n",
       "    </tr>\n",
       "  </thead>\n",
       "  <tbody>\n",
       "    <tr>\n",
       "      <th>0</th>\n",
       "      <td>age</td>\n",
       "      <td>16.168821</td>\n",
       "    </tr>\n",
       "    <tr>\n",
       "      <th>1</th>\n",
       "      <td>bmi</td>\n",
       "      <td>26.865674</td>\n",
       "    </tr>\n",
       "    <tr>\n",
       "      <th>2</th>\n",
       "      <td>children</td>\n",
       "      <td>2.067655</td>\n",
       "    </tr>\n",
       "    <tr>\n",
       "      <th>3</th>\n",
       "      <td>Claim_Amount</td>\n",
       "      <td>5.866290</td>\n",
       "    </tr>\n",
       "    <tr>\n",
       "      <th>4</th>\n",
       "      <td>past_consultations</td>\n",
       "      <td>6.463532</td>\n",
       "    </tr>\n",
       "    <tr>\n",
       "      <th>5</th>\n",
       "      <td>num_of_steps</td>\n",
       "      <td>58.226980</td>\n",
       "    </tr>\n",
       "    <tr>\n",
       "      <th>6</th>\n",
       "      <td>Hospital_expenditure</td>\n",
       "      <td>5.424130</td>\n",
       "    </tr>\n",
       "    <tr>\n",
       "      <th>7</th>\n",
       "      <td>Anual_Salary</td>\n",
       "      <td>6.019054</td>\n",
       "    </tr>\n",
       "  </tbody>\n",
       "</table>\n",
       "</div>"
      ],
      "text/plain": [
       "                feature  VIF values\n",
       "0                   age   16.168821\n",
       "1                   bmi   26.865674\n",
       "2              children    2.067655\n",
       "3          Claim_Amount    5.866290\n",
       "4    past_consultations    6.463532\n",
       "5          num_of_steps   58.226980\n",
       "6  Hospital_expenditure    5.424130\n",
       "7          Anual_Salary    6.019054"
      ]
     },
     "execution_count": 51,
     "metadata": {},
     "output_type": "execute_result"
    }
   ],
   "source": [
    "# X = insurance[col_list] #numerical data\n",
    "vif_data = pd.DataFrame()\n",
    "vif_data['feature'] = X.columns\n",
    "vif_data['VIF values'] = [variance_inflation_factor(X.values, i) for i in range(len(X.columns))] \n",
    "vif_data"
   ]
  },
  {
   "cell_type": "code",
   "execution_count": 52,
   "id": "89abd94b",
   "metadata": {},
   "outputs": [],
   "source": [
    "X=X.drop(['num_of_steps'], axis = 1)"
   ]
  },
  {
   "cell_type": "code",
   "execution_count": 53,
   "id": "ea10c8ae",
   "metadata": {},
   "outputs": [
    {
     "data": {
      "text/html": [
       "<div>\n",
       "<style scoped>\n",
       "    .dataframe tbody tr th:only-of-type {\n",
       "        vertical-align: middle;\n",
       "    }\n",
       "\n",
       "    .dataframe tbody tr th {\n",
       "        vertical-align: top;\n",
       "    }\n",
       "\n",
       "    .dataframe thead th {\n",
       "        text-align: right;\n",
       "    }\n",
       "</style>\n",
       "<table border=\"1\" class=\"dataframe\">\n",
       "  <thead>\n",
       "    <tr style=\"text-align: right;\">\n",
       "      <th></th>\n",
       "      <th>feature</th>\n",
       "      <th>VIF values</th>\n",
       "    </tr>\n",
       "  </thead>\n",
       "  <tbody>\n",
       "    <tr>\n",
       "      <th>0</th>\n",
       "      <td>age</td>\n",
       "      <td>13.428790</td>\n",
       "    </tr>\n",
       "    <tr>\n",
       "      <th>1</th>\n",
       "      <td>bmi</td>\n",
       "      <td>14.469657</td>\n",
       "    </tr>\n",
       "    <tr>\n",
       "      <th>2</th>\n",
       "      <td>children</td>\n",
       "      <td>1.953715</td>\n",
       "    </tr>\n",
       "    <tr>\n",
       "      <th>3</th>\n",
       "      <td>Claim_Amount</td>\n",
       "      <td>5.313590</td>\n",
       "    </tr>\n",
       "    <tr>\n",
       "      <th>4</th>\n",
       "      <td>past_consultations</td>\n",
       "      <td>5.955358</td>\n",
       "    </tr>\n",
       "    <tr>\n",
       "      <th>5</th>\n",
       "      <td>Hospital_expenditure</td>\n",
       "      <td>5.141867</td>\n",
       "    </tr>\n",
       "    <tr>\n",
       "      <th>6</th>\n",
       "      <td>Anual_Salary</td>\n",
       "      <td>5.805037</td>\n",
       "    </tr>\n",
       "  </tbody>\n",
       "</table>\n",
       "</div>"
      ],
      "text/plain": [
       "                feature  VIF values\n",
       "0                   age   13.428790\n",
       "1                   bmi   14.469657\n",
       "2              children    1.953715\n",
       "3          Claim_Amount    5.313590\n",
       "4    past_consultations    5.955358\n",
       "5  Hospital_expenditure    5.141867\n",
       "6          Anual_Salary    5.805037"
      ]
     },
     "execution_count": 53,
     "metadata": {},
     "output_type": "execute_result"
    }
   ],
   "source": [
    "vif_data = pd.DataFrame()\n",
    "vif_data['feature'] = X.columns\n",
    "vif_data['VIF values'] = [variance_inflation_factor(X.values, i) for i in range(len(X.columns))] \n",
    "vif_data"
   ]
  },
  {
   "cell_type": "code",
   "execution_count": 54,
   "id": "ecf00ad4",
   "metadata": {},
   "outputs": [],
   "source": [
    "X=X.drop(['bmi'], axis = 1)"
   ]
  },
  {
   "cell_type": "code",
   "execution_count": 55,
   "id": "d9891b1e",
   "metadata": {},
   "outputs": [
    {
     "data": {
      "text/html": [
       "<div>\n",
       "<style scoped>\n",
       "    .dataframe tbody tr th:only-of-type {\n",
       "        vertical-align: middle;\n",
       "    }\n",
       "\n",
       "    .dataframe tbody tr th {\n",
       "        vertical-align: top;\n",
       "    }\n",
       "\n",
       "    .dataframe thead th {\n",
       "        text-align: right;\n",
       "    }\n",
       "</style>\n",
       "<table border=\"1\" class=\"dataframe\">\n",
       "  <thead>\n",
       "    <tr style=\"text-align: right;\">\n",
       "      <th></th>\n",
       "      <th>feature</th>\n",
       "      <th>VIF values</th>\n",
       "    </tr>\n",
       "  </thead>\n",
       "  <tbody>\n",
       "    <tr>\n",
       "      <th>0</th>\n",
       "      <td>age</td>\n",
       "      <td>8.756600</td>\n",
       "    </tr>\n",
       "    <tr>\n",
       "      <th>1</th>\n",
       "      <td>children</td>\n",
       "      <td>1.836149</td>\n",
       "    </tr>\n",
       "    <tr>\n",
       "      <th>2</th>\n",
       "      <td>Claim_Amount</td>\n",
       "      <td>4.896125</td>\n",
       "    </tr>\n",
       "    <tr>\n",
       "      <th>3</th>\n",
       "      <td>past_consultations</td>\n",
       "      <td>5.605745</td>\n",
       "    </tr>\n",
       "    <tr>\n",
       "      <th>4</th>\n",
       "      <td>Hospital_expenditure</td>\n",
       "      <td>4.836388</td>\n",
       "    </tr>\n",
       "    <tr>\n",
       "      <th>5</th>\n",
       "      <td>Anual_Salary</td>\n",
       "      <td>5.654440</td>\n",
       "    </tr>\n",
       "  </tbody>\n",
       "</table>\n",
       "</div>"
      ],
      "text/plain": [
       "                feature  VIF values\n",
       "0                   age    8.756600\n",
       "1              children    1.836149\n",
       "2          Claim_Amount    4.896125\n",
       "3    past_consultations    5.605745\n",
       "4  Hospital_expenditure    4.836388\n",
       "5          Anual_Salary    5.654440"
      ]
     },
     "execution_count": 55,
     "metadata": {},
     "output_type": "execute_result"
    }
   ],
   "source": [
    "vif_data = pd.DataFrame()\n",
    "vif_data['feature'] = X.columns\n",
    "vif_data['VIF values'] = [variance_inflation_factor(X.values, i) for i in range(len(X.columns))] \n",
    "vif_data"
   ]
  },
  {
   "cell_type": "code",
   "execution_count": 56,
   "id": "06097107",
   "metadata": {},
   "outputs": [],
   "source": [
    "X=X.drop(['age'], axis = 1)"
   ]
  },
  {
   "cell_type": "code",
   "execution_count": 57,
   "id": "c7048eed",
   "metadata": {},
   "outputs": [
    {
     "data": {
      "text/html": [
       "<div>\n",
       "<style scoped>\n",
       "    .dataframe tbody tr th:only-of-type {\n",
       "        vertical-align: middle;\n",
       "    }\n",
       "\n",
       "    .dataframe tbody tr th {\n",
       "        vertical-align: top;\n",
       "    }\n",
       "\n",
       "    .dataframe thead th {\n",
       "        text-align: right;\n",
       "    }\n",
       "</style>\n",
       "<table border=\"1\" class=\"dataframe\">\n",
       "  <thead>\n",
       "    <tr style=\"text-align: right;\">\n",
       "      <th></th>\n",
       "      <th>feature</th>\n",
       "      <th>VIF values</th>\n",
       "    </tr>\n",
       "  </thead>\n",
       "  <tbody>\n",
       "    <tr>\n",
       "      <th>0</th>\n",
       "      <td>children</td>\n",
       "      <td>1.827298</td>\n",
       "    </tr>\n",
       "    <tr>\n",
       "      <th>1</th>\n",
       "      <td>Claim_Amount</td>\n",
       "      <td>4.290828</td>\n",
       "    </tr>\n",
       "    <tr>\n",
       "      <th>2</th>\n",
       "      <td>past_consultations</td>\n",
       "      <td>4.942338</td>\n",
       "    </tr>\n",
       "    <tr>\n",
       "      <th>3</th>\n",
       "      <td>Hospital_expenditure</td>\n",
       "      <td>4.624025</td>\n",
       "    </tr>\n",
       "    <tr>\n",
       "      <th>4</th>\n",
       "      <td>Anual_Salary</td>\n",
       "      <td>4.922027</td>\n",
       "    </tr>\n",
       "  </tbody>\n",
       "</table>\n",
       "</div>"
      ],
      "text/plain": [
       "                feature  VIF values\n",
       "0              children    1.827298\n",
       "1          Claim_Amount    4.290828\n",
       "2    past_consultations    4.942338\n",
       "3  Hospital_expenditure    4.624025\n",
       "4          Anual_Salary    4.922027"
      ]
     },
     "execution_count": 57,
     "metadata": {},
     "output_type": "execute_result"
    }
   ],
   "source": [
    "vif_data = pd.DataFrame()\n",
    "vif_data['feature'] = X.columns\n",
    "vif_data['VIF values'] = [variance_inflation_factor(X.values, i) for i in range(len(X.columns))] \n",
    "vif_data"
   ]
  },
  {
   "cell_type": "code",
   "execution_count": 58,
   "id": "ceb8dd4c",
   "metadata": {
    "scrolled": true
   },
   "outputs": [],
   "source": [
    "insurance=insurance.loc[:,[\"children\",\"Claim_Amount\",\"past_consultations\",\"Hospital_expenditure\",\"Anual_Salary\",\"charges\"]]"
   ]
  },
  {
   "cell_type": "code",
   "execution_count": 59,
   "id": "4c2832ae",
   "metadata": {},
   "outputs": [
    {
     "data": {
      "text/html": [
       "<div>\n",
       "<style scoped>\n",
       "    .dataframe tbody tr th:only-of-type {\n",
       "        vertical-align: middle;\n",
       "    }\n",
       "\n",
       "    .dataframe tbody tr th {\n",
       "        vertical-align: top;\n",
       "    }\n",
       "\n",
       "    .dataframe thead th {\n",
       "        text-align: right;\n",
       "    }\n",
       "</style>\n",
       "<table border=\"1\" class=\"dataframe\">\n",
       "  <thead>\n",
       "    <tr style=\"text-align: right;\">\n",
       "      <th></th>\n",
       "      <th>children</th>\n",
       "      <th>Claim_Amount</th>\n",
       "      <th>past_consultations</th>\n",
       "      <th>Hospital_expenditure</th>\n",
       "      <th>Anual_Salary</th>\n",
       "      <th>charges</th>\n",
       "    </tr>\n",
       "  </thead>\n",
       "  <tbody>\n",
       "    <tr>\n",
       "      <th>151</th>\n",
       "      <td>0.0</td>\n",
       "      <td>39148.95495</td>\n",
       "      <td>10.0</td>\n",
       "      <td>8.614147e+06</td>\n",
       "      <td>5.452601e+07</td>\n",
       "      <td>2523.16950</td>\n",
       "    </tr>\n",
       "    <tr>\n",
       "      <th>152</th>\n",
       "      <td>0.0</td>\n",
       "      <td>41547.52536</td>\n",
       "      <td>13.0</td>\n",
       "      <td>2.491594e+05</td>\n",
       "      <td>1.671847e+07</td>\n",
       "      <td>2527.81865</td>\n",
       "    </tr>\n",
       "    <tr>\n",
       "      <th>153</th>\n",
       "      <td>0.0</td>\n",
       "      <td>39660.60193</td>\n",
       "      <td>12.0</td>\n",
       "      <td>3.043323e+06</td>\n",
       "      <td>4.852694e+07</td>\n",
       "      <td>2534.39375</td>\n",
       "    </tr>\n",
       "    <tr>\n",
       "      <th>154</th>\n",
       "      <td>2.0</td>\n",
       "      <td>16032.87148</td>\n",
       "      <td>7.0</td>\n",
       "      <td>1.599069e+06</td>\n",
       "      <td>2.441262e+07</td>\n",
       "      <td>2566.47070</td>\n",
       "    </tr>\n",
       "    <tr>\n",
       "      <th>155</th>\n",
       "      <td>1.0</td>\n",
       "      <td>31090.98977</td>\n",
       "      <td>21.0</td>\n",
       "      <td>3.015365e+06</td>\n",
       "      <td>5.853579e+07</td>\n",
       "      <td>2585.26900</td>\n",
       "    </tr>\n",
       "    <tr>\n",
       "      <th>...</th>\n",
       "      <td>...</td>\n",
       "      <td>...</td>\n",
       "      <td>...</td>\n",
       "      <td>...</td>\n",
       "      <td>...</td>\n",
       "      <td>...</td>\n",
       "    </tr>\n",
       "    <tr>\n",
       "      <th>1046</th>\n",
       "      <td>1.0</td>\n",
       "      <td>51168.25474</td>\n",
       "      <td>23.0</td>\n",
       "      <td>1.665982e+07</td>\n",
       "      <td>3.712188e+08</td>\n",
       "      <td>19107.77960</td>\n",
       "    </tr>\n",
       "    <tr>\n",
       "      <th>1048</th>\n",
       "      <td>3.0</td>\n",
       "      <td>46619.40230</td>\n",
       "      <td>27.0</td>\n",
       "      <td>1.361938e+07</td>\n",
       "      <td>3.812895e+08</td>\n",
       "      <td>19199.94400</td>\n",
       "    </tr>\n",
       "    <tr>\n",
       "      <th>1050</th>\n",
       "      <td>0.0</td>\n",
       "      <td>24382.58056</td>\n",
       "      <td>21.0</td>\n",
       "      <td>1.028991e+07</td>\n",
       "      <td>3.745310e+08</td>\n",
       "      <td>19350.36890</td>\n",
       "    </tr>\n",
       "    <tr>\n",
       "      <th>1062</th>\n",
       "      <td>2.0</td>\n",
       "      <td>21596.43846</td>\n",
       "      <td>10.0</td>\n",
       "      <td>1.083030e+07</td>\n",
       "      <td>3.696849e+08</td>\n",
       "      <td>19798.05455</td>\n",
       "    </tr>\n",
       "    <tr>\n",
       "      <th>1069</th>\n",
       "      <td>0.0</td>\n",
       "      <td>17200.14586</td>\n",
       "      <td>15.0</td>\n",
       "      <td>1.247744e+07</td>\n",
       "      <td>3.696849e+08</td>\n",
       "      <td>20234.85475</td>\n",
       "    </tr>\n",
       "  </tbody>\n",
       "</table>\n",
       "<p>881 rows × 6 columns</p>\n",
       "</div>"
      ],
      "text/plain": [
       "      children  Claim_Amount  past_consultations  Hospital_expenditure  \\\n",
       "151        0.0   39148.95495                10.0          8.614147e+06   \n",
       "152        0.0   41547.52536                13.0          2.491594e+05   \n",
       "153        0.0   39660.60193                12.0          3.043323e+06   \n",
       "154        2.0   16032.87148                 7.0          1.599069e+06   \n",
       "155        1.0   31090.98977                21.0          3.015365e+06   \n",
       "...        ...           ...                 ...                   ...   \n",
       "1046       1.0   51168.25474                23.0          1.665982e+07   \n",
       "1048       3.0   46619.40230                27.0          1.361938e+07   \n",
       "1050       0.0   24382.58056                21.0          1.028991e+07   \n",
       "1062       2.0   21596.43846                10.0          1.083030e+07   \n",
       "1069       0.0   17200.14586                15.0          1.247744e+07   \n",
       "\n",
       "      Anual_Salary      charges  \n",
       "151   5.452601e+07   2523.16950  \n",
       "152   1.671847e+07   2527.81865  \n",
       "153   4.852694e+07   2534.39375  \n",
       "154   2.441262e+07   2566.47070  \n",
       "155   5.853579e+07   2585.26900  \n",
       "...            ...          ...  \n",
       "1046  3.712188e+08  19107.77960  \n",
       "1048  3.812895e+08  19199.94400  \n",
       "1050  3.745310e+08  19350.36890  \n",
       "1062  3.696849e+08  19798.05455  \n",
       "1069  3.696849e+08  20234.85475  \n",
       "\n",
       "[881 rows x 6 columns]"
      ]
     },
     "execution_count": 59,
     "metadata": {},
     "output_type": "execute_result"
    }
   ],
   "source": [
    "insurance"
   ]
  },
  {
   "cell_type": "code",
   "execution_count": 60,
   "id": "d95e4314",
   "metadata": {},
   "outputs": [],
   "source": [
    "# Split Independent and Dependent"
   ]
  },
  {
   "cell_type": "code",
   "execution_count": 61,
   "id": "96197938",
   "metadata": {},
   "outputs": [],
   "source": [
    "x=insurance.iloc[:,:-1]\n",
    "y=insurance[\"charges\"]"
   ]
  },
  {
   "cell_type": "code",
   "execution_count": 62,
   "id": "19212b42",
   "metadata": {},
   "outputs": [
    {
     "data": {
      "text/html": [
       "<div>\n",
       "<style scoped>\n",
       "    .dataframe tbody tr th:only-of-type {\n",
       "        vertical-align: middle;\n",
       "    }\n",
       "\n",
       "    .dataframe tbody tr th {\n",
       "        vertical-align: top;\n",
       "    }\n",
       "\n",
       "    .dataframe thead th {\n",
       "        text-align: right;\n",
       "    }\n",
       "</style>\n",
       "<table border=\"1\" class=\"dataframe\">\n",
       "  <thead>\n",
       "    <tr style=\"text-align: right;\">\n",
       "      <th></th>\n",
       "      <th>children</th>\n",
       "      <th>Claim_Amount</th>\n",
       "      <th>past_consultations</th>\n",
       "      <th>Hospital_expenditure</th>\n",
       "      <th>Anual_Salary</th>\n",
       "    </tr>\n",
       "  </thead>\n",
       "  <tbody>\n",
       "    <tr>\n",
       "      <th>151</th>\n",
       "      <td>0.0</td>\n",
       "      <td>39148.95495</td>\n",
       "      <td>10.0</td>\n",
       "      <td>8.614147e+06</td>\n",
       "      <td>5.452601e+07</td>\n",
       "    </tr>\n",
       "    <tr>\n",
       "      <th>152</th>\n",
       "      <td>0.0</td>\n",
       "      <td>41547.52536</td>\n",
       "      <td>13.0</td>\n",
       "      <td>2.491594e+05</td>\n",
       "      <td>1.671847e+07</td>\n",
       "    </tr>\n",
       "    <tr>\n",
       "      <th>153</th>\n",
       "      <td>0.0</td>\n",
       "      <td>39660.60193</td>\n",
       "      <td>12.0</td>\n",
       "      <td>3.043323e+06</td>\n",
       "      <td>4.852694e+07</td>\n",
       "    </tr>\n",
       "    <tr>\n",
       "      <th>154</th>\n",
       "      <td>2.0</td>\n",
       "      <td>16032.87148</td>\n",
       "      <td>7.0</td>\n",
       "      <td>1.599069e+06</td>\n",
       "      <td>2.441262e+07</td>\n",
       "    </tr>\n",
       "    <tr>\n",
       "      <th>155</th>\n",
       "      <td>1.0</td>\n",
       "      <td>31090.98977</td>\n",
       "      <td>21.0</td>\n",
       "      <td>3.015365e+06</td>\n",
       "      <td>5.853579e+07</td>\n",
       "    </tr>\n",
       "    <tr>\n",
       "      <th>...</th>\n",
       "      <td>...</td>\n",
       "      <td>...</td>\n",
       "      <td>...</td>\n",
       "      <td>...</td>\n",
       "      <td>...</td>\n",
       "    </tr>\n",
       "    <tr>\n",
       "      <th>1046</th>\n",
       "      <td>1.0</td>\n",
       "      <td>51168.25474</td>\n",
       "      <td>23.0</td>\n",
       "      <td>1.665982e+07</td>\n",
       "      <td>3.712188e+08</td>\n",
       "    </tr>\n",
       "    <tr>\n",
       "      <th>1048</th>\n",
       "      <td>3.0</td>\n",
       "      <td>46619.40230</td>\n",
       "      <td>27.0</td>\n",
       "      <td>1.361938e+07</td>\n",
       "      <td>3.812895e+08</td>\n",
       "    </tr>\n",
       "    <tr>\n",
       "      <th>1050</th>\n",
       "      <td>0.0</td>\n",
       "      <td>24382.58056</td>\n",
       "      <td>21.0</td>\n",
       "      <td>1.028991e+07</td>\n",
       "      <td>3.745310e+08</td>\n",
       "    </tr>\n",
       "    <tr>\n",
       "      <th>1062</th>\n",
       "      <td>2.0</td>\n",
       "      <td>21596.43846</td>\n",
       "      <td>10.0</td>\n",
       "      <td>1.083030e+07</td>\n",
       "      <td>3.696849e+08</td>\n",
       "    </tr>\n",
       "    <tr>\n",
       "      <th>1069</th>\n",
       "      <td>0.0</td>\n",
       "      <td>17200.14586</td>\n",
       "      <td>15.0</td>\n",
       "      <td>1.247744e+07</td>\n",
       "      <td>3.696849e+08</td>\n",
       "    </tr>\n",
       "  </tbody>\n",
       "</table>\n",
       "<p>881 rows × 5 columns</p>\n",
       "</div>"
      ],
      "text/plain": [
       "      children  Claim_Amount  past_consultations  Hospital_expenditure  \\\n",
       "151        0.0   39148.95495                10.0          8.614147e+06   \n",
       "152        0.0   41547.52536                13.0          2.491594e+05   \n",
       "153        0.0   39660.60193                12.0          3.043323e+06   \n",
       "154        2.0   16032.87148                 7.0          1.599069e+06   \n",
       "155        1.0   31090.98977                21.0          3.015365e+06   \n",
       "...        ...           ...                 ...                   ...   \n",
       "1046       1.0   51168.25474                23.0          1.665982e+07   \n",
       "1048       3.0   46619.40230                27.0          1.361938e+07   \n",
       "1050       0.0   24382.58056                21.0          1.028991e+07   \n",
       "1062       2.0   21596.43846                10.0          1.083030e+07   \n",
       "1069       0.0   17200.14586                15.0          1.247744e+07   \n",
       "\n",
       "      Anual_Salary  \n",
       "151   5.452601e+07  \n",
       "152   1.671847e+07  \n",
       "153   4.852694e+07  \n",
       "154   2.441262e+07  \n",
       "155   5.853579e+07  \n",
       "...            ...  \n",
       "1046  3.712188e+08  \n",
       "1048  3.812895e+08  \n",
       "1050  3.745310e+08  \n",
       "1062  3.696849e+08  \n",
       "1069  3.696849e+08  \n",
       "\n",
       "[881 rows x 5 columns]"
      ]
     },
     "execution_count": 62,
     "metadata": {},
     "output_type": "execute_result"
    }
   ],
   "source": [
    "x"
   ]
  },
  {
   "cell_type": "code",
   "execution_count": 63,
   "id": "4fa6d0b8",
   "metadata": {},
   "outputs": [
    {
     "data": {
      "text/plain": [
       "151      2523.16950\n",
       "152      2527.81865\n",
       "153      2534.39375\n",
       "154      2566.47070\n",
       "155      2585.26900\n",
       "           ...     \n",
       "1046    19107.77960\n",
       "1048    19199.94400\n",
       "1050    19350.36890\n",
       "1062    19798.05455\n",
       "1069    20234.85475\n",
       "Name: charges, Length: 881, dtype: float64"
      ]
     },
     "execution_count": 63,
     "metadata": {},
     "output_type": "execute_result"
    }
   ],
   "source": [
    "y"
   ]
  },
  {
   "cell_type": "code",
   "execution_count": 64,
   "id": "b861b8a6",
   "metadata": {},
   "outputs": [],
   "source": [
    "from sklearn.model_selection import train_test_split\n",
    "#train_test\n",
    "x_train, x_test, y_train, y_test=train_test_split(x,y,train_size=0.7, random_state=20)"
   ]
  },
  {
   "cell_type": "code",
   "execution_count": 65,
   "id": "3e49d38b",
   "metadata": {},
   "outputs": [
    {
     "data": {
      "text/html": [
       "<div>\n",
       "<style scoped>\n",
       "    .dataframe tbody tr th:only-of-type {\n",
       "        vertical-align: middle;\n",
       "    }\n",
       "\n",
       "    .dataframe tbody tr th {\n",
       "        vertical-align: top;\n",
       "    }\n",
       "\n",
       "    .dataframe thead th {\n",
       "        text-align: right;\n",
       "    }\n",
       "</style>\n",
       "<table border=\"1\" class=\"dataframe\">\n",
       "  <thead>\n",
       "    <tr style=\"text-align: right;\">\n",
       "      <th></th>\n",
       "      <th>children</th>\n",
       "      <th>Claim_Amount</th>\n",
       "      <th>past_consultations</th>\n",
       "      <th>Hospital_expenditure</th>\n",
       "      <th>Anual_Salary</th>\n",
       "    </tr>\n",
       "  </thead>\n",
       "  <tbody>\n",
       "    <tr>\n",
       "      <th>763</th>\n",
       "      <td>0.0</td>\n",
       "      <td>18094.64393</td>\n",
       "      <td>20.0</td>\n",
       "      <td>1.052415e+07</td>\n",
       "      <td>1.393229e+08</td>\n",
       "    </tr>\n",
       "    <tr>\n",
       "      <th>851</th>\n",
       "      <td>3.0</td>\n",
       "      <td>36160.15855</td>\n",
       "      <td>9.0</td>\n",
       "      <td>1.093410e+07</td>\n",
       "      <td>2.388769e+08</td>\n",
       "    </tr>\n",
       "    <tr>\n",
       "      <th>776</th>\n",
       "      <td>0.0</td>\n",
       "      <td>45887.11209</td>\n",
       "      <td>13.0</td>\n",
       "      <td>1.428394e+06</td>\n",
       "      <td>1.949810e+08</td>\n",
       "    </tr>\n",
       "    <tr>\n",
       "      <th>788</th>\n",
       "      <td>1.0</td>\n",
       "      <td>33295.67946</td>\n",
       "      <td>15.0</td>\n",
       "      <td>8.146261e+06</td>\n",
       "      <td>1.924346e+08</td>\n",
       "    </tr>\n",
       "    <tr>\n",
       "      <th>239</th>\n",
       "      <td>3.0</td>\n",
       "      <td>28234.73543</td>\n",
       "      <td>8.0</td>\n",
       "      <td>6.334455e+05</td>\n",
       "      <td>5.914048e+07</td>\n",
       "    </tr>\n",
       "    <tr>\n",
       "      <th>...</th>\n",
       "      <td>...</td>\n",
       "      <td>...</td>\n",
       "      <td>...</td>\n",
       "      <td>...</td>\n",
       "      <td>...</td>\n",
       "    </tr>\n",
       "    <tr>\n",
       "      <th>369</th>\n",
       "      <td>1.0</td>\n",
       "      <td>35458.18050</td>\n",
       "      <td>11.0</td>\n",
       "      <td>7.982721e+06</td>\n",
       "      <td>3.949969e+07</td>\n",
       "    </tr>\n",
       "    <tr>\n",
       "      <th>374</th>\n",
       "      <td>1.0</td>\n",
       "      <td>21763.62507</td>\n",
       "      <td>4.0</td>\n",
       "      <td>2.320848e+06</td>\n",
       "      <td>7.524625e+07</td>\n",
       "    </tr>\n",
       "    <tr>\n",
       "      <th>422</th>\n",
       "      <td>0.0</td>\n",
       "      <td>18838.44508</td>\n",
       "      <td>17.0</td>\n",
       "      <td>2.798750e+06</td>\n",
       "      <td>7.764158e+07</td>\n",
       "    </tr>\n",
       "    <tr>\n",
       "      <th>626</th>\n",
       "      <td>0.0</td>\n",
       "      <td>20946.99765</td>\n",
       "      <td>10.0</td>\n",
       "      <td>8.317560e+06</td>\n",
       "      <td>1.538441e+08</td>\n",
       "    </tr>\n",
       "    <tr>\n",
       "      <th>506</th>\n",
       "      <td>1.0</td>\n",
       "      <td>19214.99249</td>\n",
       "      <td>7.0</td>\n",
       "      <td>8.736690e+06</td>\n",
       "      <td>1.040243e+08</td>\n",
       "    </tr>\n",
       "  </tbody>\n",
       "</table>\n",
       "<p>616 rows × 5 columns</p>\n",
       "</div>"
      ],
      "text/plain": [
       "     children  Claim_Amount  past_consultations  Hospital_expenditure  \\\n",
       "763       0.0   18094.64393                20.0          1.052415e+07   \n",
       "851       3.0   36160.15855                 9.0          1.093410e+07   \n",
       "776       0.0   45887.11209                13.0          1.428394e+06   \n",
       "788       1.0   33295.67946                15.0          8.146261e+06   \n",
       "239       3.0   28234.73543                 8.0          6.334455e+05   \n",
       "..        ...           ...                 ...                   ...   \n",
       "369       1.0   35458.18050                11.0          7.982721e+06   \n",
       "374       1.0   21763.62507                 4.0          2.320848e+06   \n",
       "422       0.0   18838.44508                17.0          2.798750e+06   \n",
       "626       0.0   20946.99765                10.0          8.317560e+06   \n",
       "506       1.0   19214.99249                 7.0          8.736690e+06   \n",
       "\n",
       "     Anual_Salary  \n",
       "763  1.393229e+08  \n",
       "851  2.388769e+08  \n",
       "776  1.949810e+08  \n",
       "788  1.924346e+08  \n",
       "239  5.914048e+07  \n",
       "..            ...  \n",
       "369  3.949969e+07  \n",
       "374  7.524625e+07  \n",
       "422  7.764158e+07  \n",
       "626  1.538441e+08  \n",
       "506  1.040243e+08  \n",
       "\n",
       "[616 rows x 5 columns]"
      ]
     },
     "execution_count": 65,
     "metadata": {},
     "output_type": "execute_result"
    }
   ],
   "source": [
    "x_train"
   ]
  },
  {
   "cell_type": "code",
   "execution_count": 66,
   "id": "cc4e0b79",
   "metadata": {},
   "outputs": [
    {
     "data": {
      "text/html": [
       "<div>\n",
       "<style scoped>\n",
       "    .dataframe tbody tr th:only-of-type {\n",
       "        vertical-align: middle;\n",
       "    }\n",
       "\n",
       "    .dataframe tbody tr th {\n",
       "        vertical-align: top;\n",
       "    }\n",
       "\n",
       "    .dataframe thead th {\n",
       "        text-align: right;\n",
       "    }\n",
       "</style>\n",
       "<table border=\"1\" class=\"dataframe\">\n",
       "  <thead>\n",
       "    <tr style=\"text-align: right;\">\n",
       "      <th></th>\n",
       "      <th>children</th>\n",
       "      <th>Claim_Amount</th>\n",
       "      <th>past_consultations</th>\n",
       "      <th>Hospital_expenditure</th>\n",
       "      <th>Anual_Salary</th>\n",
       "    </tr>\n",
       "  </thead>\n",
       "  <tbody>\n",
       "    <tr>\n",
       "      <th>498</th>\n",
       "      <td>1.0</td>\n",
       "      <td>20560.75474</td>\n",
       "      <td>16.0</td>\n",
       "      <td>9956114.866</td>\n",
       "      <td>6.447189e+07</td>\n",
       "    </tr>\n",
       "    <tr>\n",
       "      <th>713</th>\n",
       "      <td>1.0</td>\n",
       "      <td>44031.97502</td>\n",
       "      <td>12.0</td>\n",
       "      <td>4111040.546</td>\n",
       "      <td>1.330173e+08</td>\n",
       "    </tr>\n",
       "    <tr>\n",
       "      <th>940</th>\n",
       "      <td>0.0</td>\n",
       "      <td>14033.22533</td>\n",
       "      <td>8.0</td>\n",
       "      <td>5686858.707</td>\n",
       "      <td>2.106041e+08</td>\n",
       "    </tr>\n",
       "    <tr>\n",
       "      <th>983</th>\n",
       "      <td>3.0</td>\n",
       "      <td>51268.57895</td>\n",
       "      <td>15.0</td>\n",
       "      <td>4607528.050</td>\n",
       "      <td>3.043882e+08</td>\n",
       "    </tr>\n",
       "    <tr>\n",
       "      <th>207</th>\n",
       "      <td>1.0</td>\n",
       "      <td>46151.17904</td>\n",
       "      <td>19.0</td>\n",
       "      <td>6917444.679</td>\n",
       "      <td>4.440663e+07</td>\n",
       "    </tr>\n",
       "    <tr>\n",
       "      <th>...</th>\n",
       "      <td>...</td>\n",
       "      <td>...</td>\n",
       "      <td>...</td>\n",
       "      <td>...</td>\n",
       "      <td>...</td>\n",
       "    </tr>\n",
       "    <tr>\n",
       "      <th>570</th>\n",
       "      <td>2.0</td>\n",
       "      <td>17402.51145</td>\n",
       "      <td>3.0</td>\n",
       "      <td>5112771.732</td>\n",
       "      <td>1.266904e+08</td>\n",
       "    </tr>\n",
       "    <tr>\n",
       "      <th>228</th>\n",
       "      <td>3.0</td>\n",
       "      <td>37379.39451</td>\n",
       "      <td>18.0</td>\n",
       "      <td>9353142.095</td>\n",
       "      <td>4.575595e+07</td>\n",
       "    </tr>\n",
       "    <tr>\n",
       "      <th>619</th>\n",
       "      <td>0.0</td>\n",
       "      <td>54067.64103</td>\n",
       "      <td>22.0</td>\n",
       "      <td>6156271.991</td>\n",
       "      <td>1.343365e+08</td>\n",
       "    </tr>\n",
       "    <tr>\n",
       "      <th>373</th>\n",
       "      <td>1.0</td>\n",
       "      <td>47511.14927</td>\n",
       "      <td>15.0</td>\n",
       "      <td>6969060.848</td>\n",
       "      <td>4.423883e+07</td>\n",
       "    </tr>\n",
       "    <tr>\n",
       "      <th>748</th>\n",
       "      <td>0.0</td>\n",
       "      <td>43595.75318</td>\n",
       "      <td>6.0</td>\n",
       "      <td>6523555.020</td>\n",
       "      <td>1.422857e+08</td>\n",
       "    </tr>\n",
       "  </tbody>\n",
       "</table>\n",
       "<p>265 rows × 5 columns</p>\n",
       "</div>"
      ],
      "text/plain": [
       "     children  Claim_Amount  past_consultations  Hospital_expenditure  \\\n",
       "498       1.0   20560.75474                16.0           9956114.866   \n",
       "713       1.0   44031.97502                12.0           4111040.546   \n",
       "940       0.0   14033.22533                 8.0           5686858.707   \n",
       "983       3.0   51268.57895                15.0           4607528.050   \n",
       "207       1.0   46151.17904                19.0           6917444.679   \n",
       "..        ...           ...                 ...                   ...   \n",
       "570       2.0   17402.51145                 3.0           5112771.732   \n",
       "228       3.0   37379.39451                18.0           9353142.095   \n",
       "619       0.0   54067.64103                22.0           6156271.991   \n",
       "373       1.0   47511.14927                15.0           6969060.848   \n",
       "748       0.0   43595.75318                 6.0           6523555.020   \n",
       "\n",
       "     Anual_Salary  \n",
       "498  6.447189e+07  \n",
       "713  1.330173e+08  \n",
       "940  2.106041e+08  \n",
       "983  3.043882e+08  \n",
       "207  4.440663e+07  \n",
       "..            ...  \n",
       "570  1.266904e+08  \n",
       "228  4.575595e+07  \n",
       "619  1.343365e+08  \n",
       "373  4.423883e+07  \n",
       "748  1.422857e+08  \n",
       "\n",
       "[265 rows x 5 columns]"
      ]
     },
     "execution_count": 66,
     "metadata": {},
     "output_type": "execute_result"
    }
   ],
   "source": [
    "x_test"
   ]
  },
  {
   "cell_type": "code",
   "execution_count": 67,
   "id": "4dcf83f9",
   "metadata": {},
   "outputs": [
    {
     "data": {
      "text/plain": [
       "763    10923.93320\n",
       "851    12105.32000\n",
       "776    11073.17600\n",
       "788    11272.33139\n",
       "239     3591.48000\n",
       "          ...     \n",
       "369     5148.55260\n",
       "374     5245.22690\n",
       "422     5966.88740\n",
       "626     8671.19125\n",
       "506     7077.18940\n",
       "Name: charges, Length: 616, dtype: float64"
      ]
     },
     "execution_count": 67,
     "metadata": {},
     "output_type": "execute_result"
    }
   ],
   "source": [
    "y_train"
   ]
  },
  {
   "cell_type": "code",
   "execution_count": 68,
   "id": "6d5d26ea",
   "metadata": {},
   "outputs": [
    {
     "data": {
      "text/plain": [
       "498     6940.90985\n",
       "713    10065.41300\n",
       "940    13844.79720\n",
       "983    15170.06900\n",
       "207     3208.78700\n",
       "          ...     \n",
       "570     8017.06115\n",
       "228     3481.86800\n",
       "619     8601.32930\n",
       "373     5240.76500\n",
       "748    10601.41200\n",
       "Name: charges, Length: 265, dtype: float64"
      ]
     },
     "execution_count": 68,
     "metadata": {},
     "output_type": "execute_result"
    }
   ],
   "source": [
    "y_test"
   ]
  },
  {
   "cell_type": "code",
   "execution_count": 69,
   "id": "7cc752c1",
   "metadata": {},
   "outputs": [],
   "source": [
    "from sklearn.linear_model import LinearRegression"
   ]
  },
  {
   "cell_type": "code",
   "execution_count": 70,
   "id": "ac194861",
   "metadata": {},
   "outputs": [],
   "source": [
    "l_model = LinearRegression()"
   ]
  },
  {
   "cell_type": "code",
   "execution_count": 71,
   "id": "3265195c",
   "metadata": {},
   "outputs": [
    {
     "data": {
      "text/plain": [
       "LinearRegression()"
      ]
     },
     "execution_count": 71,
     "metadata": {},
     "output_type": "execute_result"
    }
   ],
   "source": [
    "# training your model\n",
    "l_model.fit(x_train,y_train)"
   ]
  },
  {
   "cell_type": "code",
   "execution_count": 72,
   "id": "afeecfc3",
   "metadata": {},
   "outputs": [],
   "source": [
    "# checking predictions\n",
    "predictions=l_model.predict(x_test)"
   ]
  },
  {
   "cell_type": "code",
   "execution_count": 73,
   "id": "b367e513",
   "metadata": {},
   "outputs": [
    {
     "data": {
      "text/plain": [
       "array([ 5408.53639221,  8452.44513563, 11372.34524235, 16400.85237374,\n",
       "        4820.66780211,  4466.13429343, 12393.7237657 ,  8407.38168064,\n",
       "        8754.88122055, 11539.8503018 ,  7625.08843139,  5483.17407568,\n",
       "        5700.77132908,  5719.2574155 ,  8366.93103724,  7877.29977474,\n",
       "        8430.8964562 ,  9876.56631231,  8753.5495897 ,  5429.58264845,\n",
       "        3257.90270329, 16124.43387942,  7124.1494695 ,  9386.67107752,\n",
       "        7796.61710966,  5851.93153623, 11490.93710459,  7646.16364584,\n",
       "        4818.95730481,  5540.63474669,  7087.4171652 ,  9956.9923601 ,\n",
       "        5820.99692816, 12471.35149956,  7779.0473559 , 18847.88777665,\n",
       "        6114.28359641,  6864.22464904,  5477.60485452, 10641.18441967,\n",
       "        3061.51202815, 11422.67526979,  7596.76734317,  8416.67620984,\n",
       "       10076.56540851,  7674.85786847,  6935.2267111 , 19857.435714  ,\n",
       "        8120.03453022,  9233.3057072 ,  7473.55148246,  7040.99463117,\n",
       "        5645.15581593,  6078.34322607,  7370.62095301, 19008.86649209,\n",
       "        7039.95143342,  5721.16053405, 11401.93200794,  8906.22504621,\n",
       "       15563.52345604,  6016.02910714,  5286.95319708,  6618.45329256,\n",
       "        5780.53493215,  4162.63986648,  2713.99112342, 10423.30823023,\n",
       "        6400.4554134 ,  9865.98794055,  8370.27468215, 12696.4748252 ,\n",
       "        7412.31723494,  6263.54133466,  7909.59495929,  7846.46077061,\n",
       "        5918.43424486,  4443.77932005,  5805.88609347, 11654.49251717,\n",
       "        4817.55152823, 19495.68219901, 12486.78763276,  5308.47494015,\n",
       "       16083.15589546,  6491.38101051,  2577.72511794, 14912.50827534,\n",
       "        3549.08041347,  8919.58566002,  5615.02180161,  4450.75341008,\n",
       "        6074.81114485,  5110.04690295, 17195.58802585,  6310.95176289,\n",
       "        9149.49993583, 10730.84621823,  6191.22282081,  8299.63446624,\n",
       "        7471.51203571,  5554.68492586,  4450.25387609,  8112.54085317,\n",
       "        3988.63629581,  8215.8794284 ,  9526.33265974,  7276.87831588,\n",
       "       13106.40487154,  6553.68151161,  6903.74688234, 10858.22132287,\n",
       "       11520.47053833,  3684.79919833, 10732.6833436 ,  8567.92233659,\n",
       "        9689.06919091, 12738.22936054, 13431.5005914 , 11549.26443097,\n",
       "        4579.95768297, 11684.70615189,  9054.33288814,  6660.2686296 ,\n",
       "        6282.20333617, 16995.43820508,  7455.39345599,  5149.01369076,\n",
       "       17399.19387401, 12278.53712415,  6316.96687489,  9880.20093809,\n",
       "        6097.97973716,  5803.78557092,  3707.88405291, 10710.7643242 ,\n",
       "        5120.50892431,  5431.10992116, 13101.48679841,  8458.7776315 ,\n",
       "       10722.11234169, 12532.78993039,  3909.91731681, 11349.40698198,\n",
       "        8307.87046926, 15821.68660368, 10042.75855969,  9390.72268455,\n",
       "        5112.8107064 , 19619.43721815,  8861.96247726,  9589.06032106,\n",
       "       12536.51104856,  7445.47012248,  7824.50451102, 18660.46567138,\n",
       "        6133.01472595,  8910.13178323,  6593.55934826,  4865.58991809,\n",
       "       10442.25791228,  7347.13051888,  6402.23106153,  8090.31547158,\n",
       "        5928.71221148,  8017.68158049, 12919.20244336,  9863.73543243,\n",
       "        6566.52405344,  5350.55007876, 14400.82742588, 11053.11737503,\n",
       "       14526.74676864,  8123.66958053, 11016.26436616,  5388.11177284,\n",
       "        6034.04596254, 10684.38841747,  8398.75028228, 10024.60102995,\n",
       "        3049.33628831,  3802.87255224,  6999.64669695, 16564.80065523,\n",
       "        9784.68789476,  5858.38834462, 11445.55165392, 10474.81947578,\n",
       "       12967.27511407,  6791.75903545, 11599.26965091,  4899.28380044,\n",
       "        3402.6535528 ,  7347.12812475,  8727.9009765 , 10620.68930376,\n",
       "        6284.61876255,  8727.46626163,  6858.197679  ,  7027.75097054,\n",
       "        3086.2406027 , 19032.30234017,  4357.99596999, 10801.75756047,\n",
       "       19764.14923684,  9486.06870354,  7865.31044028, 17611.39735347,\n",
       "        5761.91109195,  7659.97623773,  9899.75583343,  6830.01744242,\n",
       "        7174.43309269,  7881.69934751, 11300.88997992,  6727.76866873,\n",
       "        7487.5590952 ,  3377.57457424,  4432.77156118, 12838.83424532,\n",
       "        6423.22957482, 10717.95191974, 18673.86815504,  5322.42260352,\n",
       "        7998.95603251, 12402.48463446, 10818.44887711,  7260.41485439,\n",
       "        5279.19044714,  8952.12015794,  6409.04187292,  8712.19156642,\n",
       "       11489.62904141,  4945.7343756 ,  4345.15923613, 11000.95943037,\n",
       "        8227.7245813 ,  8870.82451388, 17138.75405059,  3096.05917198,\n",
       "        7712.33939333,  6867.86975941,  5707.07159486,  9093.66957993,\n",
       "        5837.76254853,  8083.89643664, 10774.35976349,  8714.65556801,\n",
       "        5699.31394691,  3949.04775222,  5923.37867434, 12430.80450662,\n",
       "        5660.81156151,  9374.89363102,  9574.11963446,  3801.07966025,\n",
       "        7580.01422049,  7008.59563858,  5047.42518046,  9786.42612107,\n",
       "        7731.05698605,  4999.22607659,  8865.60161118,  4730.5882093 ,\n",
       "        8692.84414655])"
      ]
     },
     "execution_count": 73,
     "metadata": {},
     "output_type": "execute_result"
    }
   ],
   "source": [
    "predictions"
   ]
  },
  {
   "cell_type": "code",
   "execution_count": 74,
   "id": "2a915d20",
   "metadata": {},
   "outputs": [
    {
     "data": {
      "text/plain": [
       "498     6940.90985\n",
       "713    10065.41300\n",
       "940    13844.79720\n",
       "983    15170.06900\n",
       "207     3208.78700\n",
       "          ...     \n",
       "570     8017.06115\n",
       "228     3481.86800\n",
       "619     8601.32930\n",
       "373     5240.76500\n",
       "748    10601.41200\n",
       "Name: charges, Length: 265, dtype: float64"
      ]
     },
     "execution_count": 74,
     "metadata": {},
     "output_type": "execute_result"
    }
   ],
   "source": [
    "y_test"
   ]
  },
  {
   "cell_type": "code",
   "execution_count": 75,
   "id": "879c2d6b",
   "metadata": {},
   "outputs": [],
   "source": [
    "from sklearn.metrics import *"
   ]
  },
  {
   "cell_type": "code",
   "execution_count": 76,
   "id": "153c71e0",
   "metadata": {},
   "outputs": [
    {
     "data": {
      "text/plain": [
       "0.805938260645831"
      ]
     },
     "execution_count": 76,
     "metadata": {},
     "output_type": "execute_result"
    }
   ],
   "source": [
    "r2_score(predictions,y_test)  #r2 score tells the goodness of model"
   ]
  },
  {
   "cell_type": "code",
   "execution_count": 77,
   "id": "8a24dcaa",
   "metadata": {},
   "outputs": [],
   "source": [
    "mse=mean_squared_error(predictions,y_test)"
   ]
  },
  {
   "cell_type": "code",
   "execution_count": 78,
   "id": "fe4744af",
   "metadata": {},
   "outputs": [],
   "source": [
    "rmse=np.sqrt(mse)      #rmse tells how worst your model is "
   ]
  },
  {
   "cell_type": "code",
   "execution_count": 79,
   "id": "a4eb24b5",
   "metadata": {
    "scrolled": true
   },
   "outputs": [
    {
     "data": {
      "text/plain": [
       "1625.3366294806124"
      ]
     },
     "execution_count": 79,
     "metadata": {},
     "output_type": "execute_result"
    }
   ],
   "source": [
    "rmse"
   ]
  },
  {
   "cell_type": "code",
   "execution_count": null,
   "id": "b1b6d6ec",
   "metadata": {},
   "outputs": [],
   "source": []
  }
 ],
 "metadata": {
  "kernelspec": {
   "display_name": "Python 3 (ipykernel)",
   "language": "python",
   "name": "python3"
  },
  "language_info": {
   "codemirror_mode": {
    "name": "ipython",
    "version": 3
   },
   "file_extension": ".py",
   "mimetype": "text/x-python",
   "name": "python",
   "nbconvert_exporter": "python",
   "pygments_lexer": "ipython3",
   "version": "3.9.13"
  }
 },
 "nbformat": 4,
 "nbformat_minor": 5
}
